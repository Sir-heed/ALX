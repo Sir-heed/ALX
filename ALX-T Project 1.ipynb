{
 "cells": [
  {
   "cell_type": "code",
   "execution_count": 1,
   "id": "e721040a",
   "metadata": {},
   "outputs": [],
   "source": [
    "# import pandas\n",
    "import pandas as pd"
   ]
  },
  {
   "cell_type": "code",
   "execution_count": 2,
   "id": "65d37323",
   "metadata": {},
   "outputs": [],
   "source": [
    "# read cas\n",
    "df = pd.read_csv('tmdb-movies.csv')"
   ]
  },
  {
   "cell_type": "code",
   "execution_count": 3,
   "id": "486549ac",
   "metadata": {},
   "outputs": [
    {
     "data": {
      "text/html": [
       "<div>\n",
       "<style scoped>\n",
       "    .dataframe tbody tr th:only-of-type {\n",
       "        vertical-align: middle;\n",
       "    }\n",
       "\n",
       "    .dataframe tbody tr th {\n",
       "        vertical-align: top;\n",
       "    }\n",
       "\n",
       "    .dataframe thead th {\n",
       "        text-align: right;\n",
       "    }\n",
       "</style>\n",
       "<table border=\"1\" class=\"dataframe\">\n",
       "  <thead>\n",
       "    <tr style=\"text-align: right;\">\n",
       "      <th></th>\n",
       "      <th>id</th>\n",
       "      <th>imdb_id</th>\n",
       "      <th>popularity</th>\n",
       "      <th>budget</th>\n",
       "      <th>revenue</th>\n",
       "      <th>original_title</th>\n",
       "      <th>cast</th>\n",
       "      <th>homepage</th>\n",
       "      <th>director</th>\n",
       "      <th>tagline</th>\n",
       "      <th>...</th>\n",
       "      <th>overview</th>\n",
       "      <th>runtime</th>\n",
       "      <th>genres</th>\n",
       "      <th>production_companies</th>\n",
       "      <th>release_date</th>\n",
       "      <th>vote_count</th>\n",
       "      <th>vote_average</th>\n",
       "      <th>release_year</th>\n",
       "      <th>budget_adj</th>\n",
       "      <th>revenue_adj</th>\n",
       "    </tr>\n",
       "  </thead>\n",
       "  <tbody>\n",
       "    <tr>\n",
       "      <th>0</th>\n",
       "      <td>135397</td>\n",
       "      <td>tt0369610</td>\n",
       "      <td>32.985763</td>\n",
       "      <td>150000000</td>\n",
       "      <td>1513528810</td>\n",
       "      <td>Jurassic World</td>\n",
       "      <td>Chris Pratt|Bryce Dallas Howard|Irrfan Khan|Vi...</td>\n",
       "      <td>http://www.jurassicworld.com/</td>\n",
       "      <td>Colin Trevorrow</td>\n",
       "      <td>The park is open.</td>\n",
       "      <td>...</td>\n",
       "      <td>Twenty-two years after the events of Jurassic ...</td>\n",
       "      <td>124</td>\n",
       "      <td>Action|Adventure|Science Fiction|Thriller</td>\n",
       "      <td>Universal Studios|Amblin Entertainment|Legenda...</td>\n",
       "      <td>6/9/15</td>\n",
       "      <td>5562</td>\n",
       "      <td>6.5</td>\n",
       "      <td>2015</td>\n",
       "      <td>1.379999e+08</td>\n",
       "      <td>1.392446e+09</td>\n",
       "    </tr>\n",
       "    <tr>\n",
       "      <th>1</th>\n",
       "      <td>76341</td>\n",
       "      <td>tt1392190</td>\n",
       "      <td>28.419936</td>\n",
       "      <td>150000000</td>\n",
       "      <td>378436354</td>\n",
       "      <td>Mad Max: Fury Road</td>\n",
       "      <td>Tom Hardy|Charlize Theron|Hugh Keays-Byrne|Nic...</td>\n",
       "      <td>http://www.madmaxmovie.com/</td>\n",
       "      <td>George Miller</td>\n",
       "      <td>What a Lovely Day.</td>\n",
       "      <td>...</td>\n",
       "      <td>An apocalyptic story set in the furthest reach...</td>\n",
       "      <td>120</td>\n",
       "      <td>Action|Adventure|Science Fiction|Thriller</td>\n",
       "      <td>Village Roadshow Pictures|Kennedy Miller Produ...</td>\n",
       "      <td>5/13/15</td>\n",
       "      <td>6185</td>\n",
       "      <td>7.1</td>\n",
       "      <td>2015</td>\n",
       "      <td>1.379999e+08</td>\n",
       "      <td>3.481613e+08</td>\n",
       "    </tr>\n",
       "    <tr>\n",
       "      <th>2</th>\n",
       "      <td>262500</td>\n",
       "      <td>tt2908446</td>\n",
       "      <td>13.112507</td>\n",
       "      <td>110000000</td>\n",
       "      <td>295238201</td>\n",
       "      <td>Insurgent</td>\n",
       "      <td>Shailene Woodley|Theo James|Kate Winslet|Ansel...</td>\n",
       "      <td>http://www.thedivergentseries.movie/#insurgent</td>\n",
       "      <td>Robert Schwentke</td>\n",
       "      <td>One Choice Can Destroy You</td>\n",
       "      <td>...</td>\n",
       "      <td>Beatrice Prior must confront her inner demons ...</td>\n",
       "      <td>119</td>\n",
       "      <td>Adventure|Science Fiction|Thriller</td>\n",
       "      <td>Summit Entertainment|Mandeville Films|Red Wago...</td>\n",
       "      <td>3/18/15</td>\n",
       "      <td>2480</td>\n",
       "      <td>6.3</td>\n",
       "      <td>2015</td>\n",
       "      <td>1.012000e+08</td>\n",
       "      <td>2.716190e+08</td>\n",
       "    </tr>\n",
       "    <tr>\n",
       "      <th>3</th>\n",
       "      <td>140607</td>\n",
       "      <td>tt2488496</td>\n",
       "      <td>11.173104</td>\n",
       "      <td>200000000</td>\n",
       "      <td>2068178225</td>\n",
       "      <td>Star Wars: The Force Awakens</td>\n",
       "      <td>Harrison Ford|Mark Hamill|Carrie Fisher|Adam D...</td>\n",
       "      <td>http://www.starwars.com/films/star-wars-episod...</td>\n",
       "      <td>J.J. Abrams</td>\n",
       "      <td>Every generation has a story.</td>\n",
       "      <td>...</td>\n",
       "      <td>Thirty years after defeating the Galactic Empi...</td>\n",
       "      <td>136</td>\n",
       "      <td>Action|Adventure|Science Fiction|Fantasy</td>\n",
       "      <td>Lucasfilm|Truenorth Productions|Bad Robot</td>\n",
       "      <td>12/15/15</td>\n",
       "      <td>5292</td>\n",
       "      <td>7.5</td>\n",
       "      <td>2015</td>\n",
       "      <td>1.839999e+08</td>\n",
       "      <td>1.902723e+09</td>\n",
       "    </tr>\n",
       "    <tr>\n",
       "      <th>4</th>\n",
       "      <td>168259</td>\n",
       "      <td>tt2820852</td>\n",
       "      <td>9.335014</td>\n",
       "      <td>190000000</td>\n",
       "      <td>1506249360</td>\n",
       "      <td>Furious 7</td>\n",
       "      <td>Vin Diesel|Paul Walker|Jason Statham|Michelle ...</td>\n",
       "      <td>http://www.furious7.com/</td>\n",
       "      <td>James Wan</td>\n",
       "      <td>Vengeance Hits Home</td>\n",
       "      <td>...</td>\n",
       "      <td>Deckard Shaw seeks revenge against Dominic Tor...</td>\n",
       "      <td>137</td>\n",
       "      <td>Action|Crime|Thriller</td>\n",
       "      <td>Universal Pictures|Original Film|Media Rights ...</td>\n",
       "      <td>4/1/15</td>\n",
       "      <td>2947</td>\n",
       "      <td>7.3</td>\n",
       "      <td>2015</td>\n",
       "      <td>1.747999e+08</td>\n",
       "      <td>1.385749e+09</td>\n",
       "    </tr>\n",
       "  </tbody>\n",
       "</table>\n",
       "<p>5 rows × 21 columns</p>\n",
       "</div>"
      ],
      "text/plain": [
       "       id    imdb_id  popularity     budget     revenue  \\\n",
       "0  135397  tt0369610   32.985763  150000000  1513528810   \n",
       "1   76341  tt1392190   28.419936  150000000   378436354   \n",
       "2  262500  tt2908446   13.112507  110000000   295238201   \n",
       "3  140607  tt2488496   11.173104  200000000  2068178225   \n",
       "4  168259  tt2820852    9.335014  190000000  1506249360   \n",
       "\n",
       "                 original_title  \\\n",
       "0                Jurassic World   \n",
       "1            Mad Max: Fury Road   \n",
       "2                     Insurgent   \n",
       "3  Star Wars: The Force Awakens   \n",
       "4                     Furious 7   \n",
       "\n",
       "                                                cast  \\\n",
       "0  Chris Pratt|Bryce Dallas Howard|Irrfan Khan|Vi...   \n",
       "1  Tom Hardy|Charlize Theron|Hugh Keays-Byrne|Nic...   \n",
       "2  Shailene Woodley|Theo James|Kate Winslet|Ansel...   \n",
       "3  Harrison Ford|Mark Hamill|Carrie Fisher|Adam D...   \n",
       "4  Vin Diesel|Paul Walker|Jason Statham|Michelle ...   \n",
       "\n",
       "                                            homepage          director  \\\n",
       "0                      http://www.jurassicworld.com/   Colin Trevorrow   \n",
       "1                        http://www.madmaxmovie.com/     George Miller   \n",
       "2     http://www.thedivergentseries.movie/#insurgent  Robert Schwentke   \n",
       "3  http://www.starwars.com/films/star-wars-episod...       J.J. Abrams   \n",
       "4                           http://www.furious7.com/         James Wan   \n",
       "\n",
       "                         tagline  ...  \\\n",
       "0              The park is open.  ...   \n",
       "1             What a Lovely Day.  ...   \n",
       "2     One Choice Can Destroy You  ...   \n",
       "3  Every generation has a story.  ...   \n",
       "4            Vengeance Hits Home  ...   \n",
       "\n",
       "                                            overview runtime  \\\n",
       "0  Twenty-two years after the events of Jurassic ...     124   \n",
       "1  An apocalyptic story set in the furthest reach...     120   \n",
       "2  Beatrice Prior must confront her inner demons ...     119   \n",
       "3  Thirty years after defeating the Galactic Empi...     136   \n",
       "4  Deckard Shaw seeks revenge against Dominic Tor...     137   \n",
       "\n",
       "                                      genres  \\\n",
       "0  Action|Adventure|Science Fiction|Thriller   \n",
       "1  Action|Adventure|Science Fiction|Thriller   \n",
       "2         Adventure|Science Fiction|Thriller   \n",
       "3   Action|Adventure|Science Fiction|Fantasy   \n",
       "4                      Action|Crime|Thriller   \n",
       "\n",
       "                                production_companies release_date vote_count  \\\n",
       "0  Universal Studios|Amblin Entertainment|Legenda...       6/9/15       5562   \n",
       "1  Village Roadshow Pictures|Kennedy Miller Produ...      5/13/15       6185   \n",
       "2  Summit Entertainment|Mandeville Films|Red Wago...      3/18/15       2480   \n",
       "3          Lucasfilm|Truenorth Productions|Bad Robot     12/15/15       5292   \n",
       "4  Universal Pictures|Original Film|Media Rights ...       4/1/15       2947   \n",
       "\n",
       "   vote_average  release_year    budget_adj   revenue_adj  \n",
       "0           6.5          2015  1.379999e+08  1.392446e+09  \n",
       "1           7.1          2015  1.379999e+08  3.481613e+08  \n",
       "2           6.3          2015  1.012000e+08  2.716190e+08  \n",
       "3           7.5          2015  1.839999e+08  1.902723e+09  \n",
       "4           7.3          2015  1.747999e+08  1.385749e+09  \n",
       "\n",
       "[5 rows x 21 columns]"
      ]
     },
     "execution_count": 3,
     "metadata": {},
     "output_type": "execute_result"
    }
   ],
   "source": [
    "# check csv\n",
    "df.head()"
   ]
  },
  {
   "cell_type": "code",
   "execution_count": 4,
   "id": "f6866e85",
   "metadata": {},
   "outputs": [
    {
     "data": {
      "text/plain": [
       "(10866, 21)"
      ]
     },
     "execution_count": 4,
     "metadata": {},
     "output_type": "execute_result"
    }
   ],
   "source": [
    "# check csv shape\n",
    "df.shape"
   ]
  },
  {
   "cell_type": "code",
   "execution_count": 5,
   "id": "14a5314c",
   "metadata": {},
   "outputs": [
    {
     "name": "stdout",
     "output_type": "stream",
     "text": [
      "<class 'pandas.core.frame.DataFrame'>\n",
      "RangeIndex: 10866 entries, 0 to 10865\n",
      "Data columns (total 21 columns):\n",
      " #   Column                Non-Null Count  Dtype  \n",
      "---  ------                --------------  -----  \n",
      " 0   id                    10866 non-null  int64  \n",
      " 1   imdb_id               10856 non-null  object \n",
      " 2   popularity            10866 non-null  float64\n",
      " 3   budget                10866 non-null  int64  \n",
      " 4   revenue               10866 non-null  int64  \n",
      " 5   original_title        10866 non-null  object \n",
      " 6   cast                  10790 non-null  object \n",
      " 7   homepage              2936 non-null   object \n",
      " 8   director              10822 non-null  object \n",
      " 9   tagline               8042 non-null   object \n",
      " 10  keywords              9373 non-null   object \n",
      " 11  overview              10862 non-null  object \n",
      " 12  runtime               10866 non-null  int64  \n",
      " 13  genres                10843 non-null  object \n",
      " 14  production_companies  9836 non-null   object \n",
      " 15  release_date          10866 non-null  object \n",
      " 16  vote_count            10866 non-null  int64  \n",
      " 17  vote_average          10866 non-null  float64\n",
      " 18  release_year          10866 non-null  int64  \n",
      " 19  budget_adj            10866 non-null  float64\n",
      " 20  revenue_adj           10866 non-null  float64\n",
      "dtypes: float64(4), int64(6), object(11)\n",
      "memory usage: 1.7+ MB\n"
     ]
    }
   ],
   "source": [
    "# check csv info\n",
    "df.info()"
   ]
  },
  {
   "cell_type": "code",
   "execution_count": 6,
   "id": "9f265cd6",
   "metadata": {},
   "outputs": [
    {
     "data": {
      "text/plain": [
       "id                         0\n",
       "imdb_id                   10\n",
       "popularity                 0\n",
       "budget                     0\n",
       "revenue                    0\n",
       "original_title             0\n",
       "cast                      76\n",
       "homepage                7930\n",
       "director                  44\n",
       "tagline                 2824\n",
       "keywords                1493\n",
       "overview                   4\n",
       "runtime                    0\n",
       "genres                    23\n",
       "production_companies    1030\n",
       "release_date               0\n",
       "vote_count                 0\n",
       "vote_average               0\n",
       "release_year               0\n",
       "budget_adj                 0\n",
       "revenue_adj                0\n",
       "dtype: int64"
      ]
     },
     "execution_count": 6,
     "metadata": {},
     "output_type": "execute_result"
    }
   ],
   "source": [
    "# check null values\n",
    "df.isna().sum()"
   ]
  },
  {
   "cell_type": "code",
   "execution_count": 7,
   "id": "c679dd80",
   "metadata": {},
   "outputs": [
    {
     "data": {
      "text/plain": [
       "1"
      ]
     },
     "execution_count": 7,
     "metadata": {},
     "output_type": "execute_result"
    }
   ],
   "source": [
    "# check duplicated\n",
    "df.duplicated().sum()"
   ]
  },
  {
   "cell_type": "code",
   "execution_count": 8,
   "id": "13d71ad6",
   "metadata": {},
   "outputs": [],
   "source": [
    "# drop duplicated\n",
    "df.drop_duplicates(inplace=True)"
   ]
  },
  {
   "cell_type": "markdown",
   "id": "a01ee884",
   "metadata": {},
   "source": [
    "### Drop non informative columns\n",
    "- Id, imdb_id, and homepage do not seem like important column and can be dropped"
   ]
  },
  {
   "cell_type": "code",
   "execution_count": 9,
   "id": "60c2b75f",
   "metadata": {},
   "outputs": [],
   "source": [
    "df.drop(columns=['id', 'imdb_id', 'homepage'], inplace=True)"
   ]
  },
  {
   "cell_type": "markdown",
   "id": "a41dcf10",
   "metadata": {},
   "source": [
    "### Fill missing values for text\n",
    "Replace null value with empty string"
   ]
  },
  {
   "cell_type": "code",
   "execution_count": 10,
   "id": "1c4a4e0e",
   "metadata": {},
   "outputs": [],
   "source": [
    "df['cast'].fillna('Not_Provided', inplace=True)\n",
    "df['keywords'].fillna('Not_Provided', inplace=True)\n",
    "df['director'].fillna('Not_Provided', inplace=True)\n",
    "df['tagline'].fillna('Not_Provided', inplace=True)\n",
    "df['genres'].fillna('Not_Provided', inplace=True)\n",
    "df['production_companies'].fillna('Not_Provided', inplace=True)"
   ]
  },
  {
   "cell_type": "code",
   "execution_count": 11,
   "id": "cd6e9a26",
   "metadata": {},
   "outputs": [
    {
     "data": {
      "text/plain": [
       "popularity              0\n",
       "budget                  0\n",
       "revenue                 0\n",
       "original_title          0\n",
       "cast                    0\n",
       "director                0\n",
       "tagline                 0\n",
       "keywords                0\n",
       "overview                4\n",
       "runtime                 0\n",
       "genres                  0\n",
       "production_companies    0\n",
       "release_date            0\n",
       "vote_count              0\n",
       "vote_average            0\n",
       "release_year            0\n",
       "budget_adj              0\n",
       "revenue_adj             0\n",
       "dtype: int64"
      ]
     },
     "execution_count": 11,
     "metadata": {},
     "output_type": "execute_result"
    }
   ],
   "source": [
    "df.isna().sum()"
   ]
  },
  {
   "cell_type": "code",
   "execution_count": 12,
   "id": "8d8a0dd6",
   "metadata": {},
   "outputs": [
    {
     "data": {
      "text/html": [
       "<div>\n",
       "<style scoped>\n",
       "    .dataframe tbody tr th:only-of-type {\n",
       "        vertical-align: middle;\n",
       "    }\n",
       "\n",
       "    .dataframe tbody tr th {\n",
       "        vertical-align: top;\n",
       "    }\n",
       "\n",
       "    .dataframe thead th {\n",
       "        text-align: right;\n",
       "    }\n",
       "</style>\n",
       "<table border=\"1\" class=\"dataframe\">\n",
       "  <thead>\n",
       "    <tr style=\"text-align: right;\">\n",
       "      <th></th>\n",
       "      <th>popularity</th>\n",
       "      <th>budget</th>\n",
       "      <th>revenue</th>\n",
       "      <th>original_title</th>\n",
       "      <th>cast</th>\n",
       "      <th>director</th>\n",
       "      <th>tagline</th>\n",
       "      <th>keywords</th>\n",
       "      <th>overview</th>\n",
       "      <th>runtime</th>\n",
       "      <th>genres</th>\n",
       "      <th>production_companies</th>\n",
       "      <th>release_date</th>\n",
       "      <th>vote_count</th>\n",
       "      <th>vote_average</th>\n",
       "      <th>release_year</th>\n",
       "      <th>budget_adj</th>\n",
       "      <th>revenue_adj</th>\n",
       "    </tr>\n",
       "  </thead>\n",
       "  <tbody>\n",
       "    <tr>\n",
       "      <th>0</th>\n",
       "      <td>32.985763</td>\n",
       "      <td>150000000</td>\n",
       "      <td>1513528810</td>\n",
       "      <td>Jurassic World</td>\n",
       "      <td>Chris Pratt|Bryce Dallas Howard|Irrfan Khan|Vi...</td>\n",
       "      <td>Colin Trevorrow</td>\n",
       "      <td>The park is open.</td>\n",
       "      <td>monster|dna|tyrannosaurus rex|velociraptor|island</td>\n",
       "      <td>Twenty-two years after the events of Jurassic ...</td>\n",
       "      <td>124</td>\n",
       "      <td>Action|Adventure|Science Fiction|Thriller</td>\n",
       "      <td>Universal Studios|Amblin Entertainment|Legenda...</td>\n",
       "      <td>6/9/15</td>\n",
       "      <td>5562</td>\n",
       "      <td>6.5</td>\n",
       "      <td>2015</td>\n",
       "      <td>1.379999e+08</td>\n",
       "      <td>1.392446e+09</td>\n",
       "    </tr>\n",
       "    <tr>\n",
       "      <th>1</th>\n",
       "      <td>28.419936</td>\n",
       "      <td>150000000</td>\n",
       "      <td>378436354</td>\n",
       "      <td>Mad Max: Fury Road</td>\n",
       "      <td>Tom Hardy|Charlize Theron|Hugh Keays-Byrne|Nic...</td>\n",
       "      <td>George Miller</td>\n",
       "      <td>What a Lovely Day.</td>\n",
       "      <td>future|chase|post-apocalyptic|dystopia|australia</td>\n",
       "      <td>An apocalyptic story set in the furthest reach...</td>\n",
       "      <td>120</td>\n",
       "      <td>Action|Adventure|Science Fiction|Thriller</td>\n",
       "      <td>Village Roadshow Pictures|Kennedy Miller Produ...</td>\n",
       "      <td>5/13/15</td>\n",
       "      <td>6185</td>\n",
       "      <td>7.1</td>\n",
       "      <td>2015</td>\n",
       "      <td>1.379999e+08</td>\n",
       "      <td>3.481613e+08</td>\n",
       "    </tr>\n",
       "    <tr>\n",
       "      <th>2</th>\n",
       "      <td>13.112507</td>\n",
       "      <td>110000000</td>\n",
       "      <td>295238201</td>\n",
       "      <td>Insurgent</td>\n",
       "      <td>Shailene Woodley|Theo James|Kate Winslet|Ansel...</td>\n",
       "      <td>Robert Schwentke</td>\n",
       "      <td>One Choice Can Destroy You</td>\n",
       "      <td>based on novel|revolution|dystopia|sequel|dyst...</td>\n",
       "      <td>Beatrice Prior must confront her inner demons ...</td>\n",
       "      <td>119</td>\n",
       "      <td>Adventure|Science Fiction|Thriller</td>\n",
       "      <td>Summit Entertainment|Mandeville Films|Red Wago...</td>\n",
       "      <td>3/18/15</td>\n",
       "      <td>2480</td>\n",
       "      <td>6.3</td>\n",
       "      <td>2015</td>\n",
       "      <td>1.012000e+08</td>\n",
       "      <td>2.716190e+08</td>\n",
       "    </tr>\n",
       "    <tr>\n",
       "      <th>3</th>\n",
       "      <td>11.173104</td>\n",
       "      <td>200000000</td>\n",
       "      <td>2068178225</td>\n",
       "      <td>Star Wars: The Force Awakens</td>\n",
       "      <td>Harrison Ford|Mark Hamill|Carrie Fisher|Adam D...</td>\n",
       "      <td>J.J. Abrams</td>\n",
       "      <td>Every generation has a story.</td>\n",
       "      <td>android|spaceship|jedi|space opera|3d</td>\n",
       "      <td>Thirty years after defeating the Galactic Empi...</td>\n",
       "      <td>136</td>\n",
       "      <td>Action|Adventure|Science Fiction|Fantasy</td>\n",
       "      <td>Lucasfilm|Truenorth Productions|Bad Robot</td>\n",
       "      <td>12/15/15</td>\n",
       "      <td>5292</td>\n",
       "      <td>7.5</td>\n",
       "      <td>2015</td>\n",
       "      <td>1.839999e+08</td>\n",
       "      <td>1.902723e+09</td>\n",
       "    </tr>\n",
       "    <tr>\n",
       "      <th>4</th>\n",
       "      <td>9.335014</td>\n",
       "      <td>190000000</td>\n",
       "      <td>1506249360</td>\n",
       "      <td>Furious 7</td>\n",
       "      <td>Vin Diesel|Paul Walker|Jason Statham|Michelle ...</td>\n",
       "      <td>James Wan</td>\n",
       "      <td>Vengeance Hits Home</td>\n",
       "      <td>car race|speed|revenge|suspense|car</td>\n",
       "      <td>Deckard Shaw seeks revenge against Dominic Tor...</td>\n",
       "      <td>137</td>\n",
       "      <td>Action|Crime|Thriller</td>\n",
       "      <td>Universal Pictures|Original Film|Media Rights ...</td>\n",
       "      <td>4/1/15</td>\n",
       "      <td>2947</td>\n",
       "      <td>7.3</td>\n",
       "      <td>2015</td>\n",
       "      <td>1.747999e+08</td>\n",
       "      <td>1.385749e+09</td>\n",
       "    </tr>\n",
       "  </tbody>\n",
       "</table>\n",
       "</div>"
      ],
      "text/plain": [
       "   popularity     budget     revenue                original_title  \\\n",
       "0   32.985763  150000000  1513528810                Jurassic World   \n",
       "1   28.419936  150000000   378436354            Mad Max: Fury Road   \n",
       "2   13.112507  110000000   295238201                     Insurgent   \n",
       "3   11.173104  200000000  2068178225  Star Wars: The Force Awakens   \n",
       "4    9.335014  190000000  1506249360                     Furious 7   \n",
       "\n",
       "                                                cast          director  \\\n",
       "0  Chris Pratt|Bryce Dallas Howard|Irrfan Khan|Vi...   Colin Trevorrow   \n",
       "1  Tom Hardy|Charlize Theron|Hugh Keays-Byrne|Nic...     George Miller   \n",
       "2  Shailene Woodley|Theo James|Kate Winslet|Ansel...  Robert Schwentke   \n",
       "3  Harrison Ford|Mark Hamill|Carrie Fisher|Adam D...       J.J. Abrams   \n",
       "4  Vin Diesel|Paul Walker|Jason Statham|Michelle ...         James Wan   \n",
       "\n",
       "                         tagline  \\\n",
       "0              The park is open.   \n",
       "1             What a Lovely Day.   \n",
       "2     One Choice Can Destroy You   \n",
       "3  Every generation has a story.   \n",
       "4            Vengeance Hits Home   \n",
       "\n",
       "                                            keywords  \\\n",
       "0  monster|dna|tyrannosaurus rex|velociraptor|island   \n",
       "1   future|chase|post-apocalyptic|dystopia|australia   \n",
       "2  based on novel|revolution|dystopia|sequel|dyst...   \n",
       "3              android|spaceship|jedi|space opera|3d   \n",
       "4                car race|speed|revenge|suspense|car   \n",
       "\n",
       "                                            overview  runtime  \\\n",
       "0  Twenty-two years after the events of Jurassic ...      124   \n",
       "1  An apocalyptic story set in the furthest reach...      120   \n",
       "2  Beatrice Prior must confront her inner demons ...      119   \n",
       "3  Thirty years after defeating the Galactic Empi...      136   \n",
       "4  Deckard Shaw seeks revenge against Dominic Tor...      137   \n",
       "\n",
       "                                      genres  \\\n",
       "0  Action|Adventure|Science Fiction|Thriller   \n",
       "1  Action|Adventure|Science Fiction|Thriller   \n",
       "2         Adventure|Science Fiction|Thriller   \n",
       "3   Action|Adventure|Science Fiction|Fantasy   \n",
       "4                      Action|Crime|Thriller   \n",
       "\n",
       "                                production_companies release_date  vote_count  \\\n",
       "0  Universal Studios|Amblin Entertainment|Legenda...       6/9/15        5562   \n",
       "1  Village Roadshow Pictures|Kennedy Miller Produ...      5/13/15        6185   \n",
       "2  Summit Entertainment|Mandeville Films|Red Wago...      3/18/15        2480   \n",
       "3          Lucasfilm|Truenorth Productions|Bad Robot     12/15/15        5292   \n",
       "4  Universal Pictures|Original Film|Media Rights ...       4/1/15        2947   \n",
       "\n",
       "   vote_average  release_year    budget_adj   revenue_adj  \n",
       "0           6.5          2015  1.379999e+08  1.392446e+09  \n",
       "1           7.1          2015  1.379999e+08  3.481613e+08  \n",
       "2           6.3          2015  1.012000e+08  2.716190e+08  \n",
       "3           7.5          2015  1.839999e+08  1.902723e+09  \n",
       "4           7.3          2015  1.747999e+08  1.385749e+09  "
      ]
     },
     "execution_count": 12,
     "metadata": {},
     "output_type": "execute_result"
    }
   ],
   "source": [
    "df.head()"
   ]
  },
  {
   "cell_type": "markdown",
   "id": "d56bdc03",
   "metadata": {},
   "source": [
    "### Income on movie"
   ]
  },
  {
   "cell_type": "code",
   "execution_count": 13,
   "id": "a076b1e9",
   "metadata": {},
   "outputs": [],
   "source": [
    "df['income'] = df['revenue_adj'] - df['budget_adj']"
   ]
  },
  {
   "cell_type": "markdown",
   "id": "5c555a79",
   "metadata": {},
   "source": [
    "### Correlation plot"
   ]
  },
  {
   "cell_type": "code",
   "execution_count": 14,
   "id": "fc107531",
   "metadata": {},
   "outputs": [],
   "source": [
    "import matplotlib.pyplot as plt\n",
    "import seaborn as sns\n",
    "%matplotlib inline"
   ]
  },
  {
   "cell_type": "code",
   "execution_count": 15,
   "id": "0e7a5c55",
   "metadata": {},
   "outputs": [
    {
     "data": {
      "image/png": "[encoded data removed]",
      "text/plain": [
       "<Figure size 1152x720 with 2 Axes>"
      ]
     },
     "metadata": {
      "needs_background": "light"
     },
     "output_type": "display_data"
    }
   ],
   "source": [
    "plt.figure(figsize=(16, 10));\n",
    "sns.heatmap(df.corr(), annot=True);"
   ]
  },
  {
   "cell_type": "code",
   "execution_count": 16,
   "id": "91d8b894",
   "metadata": {},
   "outputs": [
    {
     "data": {
      "image/png": "[encoded data removed]",
      "text/plain": [
       "<Figure size 432x288 with 1 Axes>"
      ]
     },
     "metadata": {
      "needs_background": "light"
     },
     "output_type": "display_data"
    }
   ],
   "source": [
    "plt.scatter(df['revenue_adj'], df['income']);"
   ]
  },
  {
   "cell_type": "markdown",
   "id": "a3f935cd",
   "metadata": {},
   "source": [
    "As shown here, a higher revenue will create a higher income irrespective of other factors\n",
    "Therefore as far as we get a feature that influences revenue, we can assume the same feature will influence income"
   ]
  },
  {
   "cell_type": "markdown",
   "id": "7e7dd864",
   "metadata": {},
   "source": [
    "### The correlation graph shows there is high correlation between revenue and vote_count, popularity and budget\n",
    "- Let's check this out with other plots"
   ]
  },
  {
   "cell_type": "code",
   "execution_count": 17,
   "id": "ea0d72b3",
   "metadata": {},
   "outputs": [
    {
     "data": {
      "image/png": "[encoded data removed]",
      "text/plain": [
       "<Figure size 432x288 with 1 Axes>"
      ]
     },
     "metadata": {
      "needs_background": "light"
     },
     "output_type": "display_data"
    }
   ],
   "source": [
    "plt.scatter(df['vote_count'], df['revenue_adj']);"
   ]
  },
  {
   "cell_type": "code",
   "execution_count": 18,
   "id": "fdf4f957",
   "metadata": {},
   "outputs": [
    {
     "data": {
      "image/png": "[encoded data removed]",
      "text/plain": [
       "<Figure size 432x288 with 1 Axes>"
      ]
     },
     "metadata": {
      "needs_background": "light"
     },
     "output_type": "display_data"
    }
   ],
   "source": [
    "plt.scatter(df['popularity'], df['revenue_adj']);"
   ]
  },
  {
   "cell_type": "code",
   "execution_count": 19,
   "id": "1909b9ed",
   "metadata": {},
   "outputs": [
    {
     "data": {
      "image/png": "[encoded data removed]",
      "text/plain": [
       "<Figure size 432x288 with 1 Axes>"
      ]
     },
     "metadata": {
      "needs_background": "light"
     },
     "output_type": "display_data"
    }
   ],
   "source": [
    "plt.scatter(df['budget'], df['revenue_adj']);"
   ]
  },
  {
   "cell_type": "markdown",
   "id": "0ccd6787",
   "metadata": {},
   "source": [
    "Even though these graphs show positive correlation, the correlation are not that consistent, hence there are other factors affecting the revenue"
   ]
  },
  {
   "cell_type": "markdown",
   "id": "0425b8c1",
   "metadata": {},
   "source": [
    "# How does the movie genre affect the income of movie?\n",
    "## Inspecting movie genre"
   ]
  },
  {
   "cell_type": "code",
   "execution_count": 20,
   "id": "73d17fe6",
   "metadata": {},
   "outputs": [
    {
     "data": {
      "text/plain": [
       "5"
      ]
     },
     "execution_count": 20,
     "metadata": {},
     "output_type": "execute_result"
    }
   ],
   "source": [
    "genre_count = df['genres'].apply(lambda x: len(x.split('|')))\n",
    "max(genre_count)"
   ]
  },
  {
   "cell_type": "markdown",
   "id": "ed88aa28",
   "metadata": {},
   "source": [
    "As show above the maximum genres a movie belongs to is five\n",
    "Now let's see the relation based on number of genres a movie belong to"
   ]
  },
  {
   "cell_type": "code",
   "execution_count": 21,
   "id": "d427abc2",
   "metadata": {},
   "outputs": [
    {
     "data": {
      "image/png": "[encoded data removed]",
      "text/plain": [
       "<Figure size 432x288 with 1 Axes>"
      ]
     },
     "metadata": {
      "needs_background": "light"
     },
     "output_type": "display_data"
    }
   ],
   "source": [
    "plt.scatter(genre_count, df['revenue_adj']);"
   ]
  },
  {
   "cell_type": "markdown",
   "id": "ed5ae548",
   "metadata": {},
   "source": [
    "This shows that movies that belong to 3 or 4 genres tends to bring more revenue that others"
   ]
  },
  {
   "cell_type": "code",
   "execution_count": 22,
   "id": "50a62ab5",
   "metadata": {},
   "outputs": [
    {
     "data": {
      "text/plain": [
       "(26978, 21)"
      ]
     },
     "execution_count": 22,
     "metadata": {},
     "output_type": "execute_result"
    }
   ],
   "source": [
    "# Getting unique genres\n",
    "genre_list = list(df['genres'].apply(lambda x: x.split('|')))\n",
    "join_genre = [genre for kgenre in genre_list for genre in kgenre]\n",
    "len(join_genre), len(set(join_genre))"
   ]
  },
  {
   "cell_type": "code",
   "execution_count": 23,
   "id": "8c67ef4d",
   "metadata": {},
   "outputs": [
    {
     "data": {
      "text/plain": [
       "{'Action',\n",
       " 'Adventure',\n",
       " 'Animation',\n",
       " 'Comedy',\n",
       " 'Crime',\n",
       " 'Documentary',\n",
       " 'Drama',\n",
       " 'Family',\n",
       " 'Fantasy',\n",
       " 'Foreign',\n",
       " 'History',\n",
       " 'Horror',\n",
       " 'Music',\n",
       " 'Mystery',\n",
       " 'Not_Provided',\n",
       " 'Romance',\n",
       " 'Science Fiction',\n",
       " 'TV Movie',\n",
       " 'Thriller',\n",
       " 'War',\n",
       " 'Western'}"
      ]
     },
     "execution_count": 23,
     "metadata": {},
     "output_type": "execute_result"
    }
   ],
   "source": [
    "unique_genres = set(join_genre)\n",
    "unique_genres"
   ]
  },
  {
   "cell_type": "code",
   "execution_count": 24,
   "id": "dbb940b1",
   "metadata": {},
   "outputs": [
    {
     "data": {
      "text/plain": [
       "[{'Comedy': -0.017580719122810957},\n",
       " {'Fantasy': 0.12559393596977353},\n",
       " {'Foreign': -0.04549238550203623},\n",
       " {'Music': -0.006436771468450617},\n",
       " {'History': -0.004211668471912443},\n",
       " {'Animation': 0.061437684657103725},\n",
       " {'Science Fiction': 0.0879283620050641},\n",
       " {'Crime': 0.013741362874031578},\n",
       " {'Adventure': 0.24707871354596794},\n",
       " {'Romance': -0.009475429228427713},\n",
       " {'Mystery': -0.0009413757017258377},\n",
       " {'Thriller': 0.01636897298473942},\n",
       " {'Drama': -0.06686290533480865},\n",
       " {'Horror': -0.07946056236134062},\n",
       " {'Action': 0.14805810109889567},\n",
       " {'Documentary': -0.07612896661208822},\n",
       " {'TV Movie': -0.044073605343740926},\n",
       " {'Not_Provided': -0.016358629693386417},\n",
       " {'Family': 0.08988313690022014},\n",
       " {'Western': -0.004522835310198916},\n",
       " {'War': 0.0205485065724823}]"
      ]
     },
     "execution_count": 24,
     "metadata": {},
     "output_type": "execute_result"
    }
   ],
   "source": [
    "### Let's check the correlation between each movie genre and income\n",
    "[{genre: df['revenue_adj'].corr(df['genres'].apply(lambda x: genre in x.split('|')))} for genre in unique_genres]"
   ]
  },
  {
   "cell_type": "code",
   "execution_count": 25,
   "id": "78f86027",
   "metadata": {},
   "outputs": [
    {
     "data": {
      "text/html": [
       "<div>\n",
       "<style scoped>\n",
       "    .dataframe tbody tr th:only-of-type {\n",
       "        vertical-align: middle;\n",
       "    }\n",
       "\n",
       "    .dataframe tbody tr th {\n",
       "        vertical-align: top;\n",
       "    }\n",
       "\n",
       "    .dataframe thead th {\n",
       "        text-align: right;\n",
       "    }\n",
       "</style>\n",
       "<table border=\"1\" class=\"dataframe\">\n",
       "  <thead>\n",
       "    <tr style=\"text-align: right;\">\n",
       "      <th></th>\n",
       "      <th>popularity</th>\n",
       "      <th>budget</th>\n",
       "      <th>revenue</th>\n",
       "      <th>original_title</th>\n",
       "      <th>cast</th>\n",
       "      <th>director</th>\n",
       "      <th>tagline</th>\n",
       "      <th>keywords</th>\n",
       "      <th>overview</th>\n",
       "      <th>runtime</th>\n",
       "      <th>genres</th>\n",
       "      <th>production_companies</th>\n",
       "      <th>release_date</th>\n",
       "      <th>vote_count</th>\n",
       "      <th>vote_average</th>\n",
       "      <th>release_year</th>\n",
       "      <th>budget_adj</th>\n",
       "      <th>revenue_adj</th>\n",
       "      <th>income</th>\n",
       "    </tr>\n",
       "  </thead>\n",
       "  <tbody>\n",
       "    <tr>\n",
       "      <th>1386</th>\n",
       "      <td>9.432768</td>\n",
       "      <td>237000000</td>\n",
       "      <td>2781505847</td>\n",
       "      <td>Avatar</td>\n",
       "      <td>Sam Worthington|Zoe Saldana|Sigourney Weaver|S...</td>\n",
       "      <td>James Cameron</td>\n",
       "      <td>Enter the World of Pandora.</td>\n",
       "      <td>culture clash|future|space war|space colony|so...</td>\n",
       "      <td>In the 22nd century, a paraplegic Marine is di...</td>\n",
       "      <td>162</td>\n",
       "      <td>Action|Adventure|Fantasy|Science Fiction</td>\n",
       "      <td>Ingenious Film Partners|Twentieth Century Fox ...</td>\n",
       "      <td>12/10/09</td>\n",
       "      <td>8458</td>\n",
       "      <td>7.1</td>\n",
       "      <td>2009</td>\n",
       "      <td>2.408869e+08</td>\n",
       "      <td>2.827124e+09</td>\n",
       "      <td>2.586237e+09</td>\n",
       "    </tr>\n",
       "    <tr>\n",
       "      <th>1329</th>\n",
       "      <td>12.037933</td>\n",
       "      <td>11000000</td>\n",
       "      <td>775398007</td>\n",
       "      <td>Star Wars</td>\n",
       "      <td>Mark Hamill|Harrison Ford|Carrie Fisher|Peter ...</td>\n",
       "      <td>George Lucas</td>\n",
       "      <td>A long time ago in a galaxy far, far away...</td>\n",
       "      <td>android|galaxy|hermit|death star|lightsaber</td>\n",
       "      <td>Princess Leia is captured and held hostage by ...</td>\n",
       "      <td>121</td>\n",
       "      <td>Adventure|Action|Science Fiction</td>\n",
       "      <td>Lucasfilm|Twentieth Century Fox Film Corporation</td>\n",
       "      <td>3/20/77</td>\n",
       "      <td>4428</td>\n",
       "      <td>7.9</td>\n",
       "      <td>1977</td>\n",
       "      <td>3.957559e+07</td>\n",
       "      <td>2.789712e+09</td>\n",
       "      <td>2.750137e+09</td>\n",
       "    </tr>\n",
       "  </tbody>\n",
       "</table>\n",
       "</div>"
      ],
      "text/plain": [
       "      popularity     budget     revenue original_title  \\\n",
       "1386    9.432768  237000000  2781505847         Avatar   \n",
       "1329   12.037933   11000000   775398007      Star Wars   \n",
       "\n",
       "                                                   cast       director  \\\n",
       "1386  Sam Worthington|Zoe Saldana|Sigourney Weaver|S...  James Cameron   \n",
       "1329  Mark Hamill|Harrison Ford|Carrie Fisher|Peter ...   George Lucas   \n",
       "\n",
       "                                           tagline  \\\n",
       "1386                   Enter the World of Pandora.   \n",
       "1329  A long time ago in a galaxy far, far away...   \n",
       "\n",
       "                                               keywords  \\\n",
       "1386  culture clash|future|space war|space colony|so...   \n",
       "1329        android|galaxy|hermit|death star|lightsaber   \n",
       "\n",
       "                                               overview  runtime  \\\n",
       "1386  In the 22nd century, a paraplegic Marine is di...      162   \n",
       "1329  Princess Leia is captured and held hostage by ...      121   \n",
       "\n",
       "                                        genres  \\\n",
       "1386  Action|Adventure|Fantasy|Science Fiction   \n",
       "1329          Adventure|Action|Science Fiction   \n",
       "\n",
       "                                   production_companies release_date  \\\n",
       "1386  Ingenious Film Partners|Twentieth Century Fox ...     12/10/09   \n",
       "1329   Lucasfilm|Twentieth Century Fox Film Corporation      3/20/77   \n",
       "\n",
       "      vote_count  vote_average  release_year    budget_adj   revenue_adj  \\\n",
       "1386        8458           7.1          2009  2.408869e+08  2.827124e+09   \n",
       "1329        4428           7.9          1977  3.957559e+07  2.789712e+09   \n",
       "\n",
       "            income  \n",
       "1386  2.586237e+09  \n",
       "1329  2.750137e+09  "
      ]
     },
     "execution_count": 25,
     "metadata": {},
     "output_type": "execute_result"
    }
   ],
   "source": [
    "df.sort_values(by='revenue_adj', ascending=False)[:2]"
   ]
  },
  {
   "cell_type": "code",
   "execution_count": 26,
   "id": "150cf0c0",
   "metadata": {},
   "outputs": [],
   "source": [
    "genre_df = df.copy()\n",
    "for genre in unique_genres:\n",
    "    genre_df[f'genre_{genre}'] = df['genres'].apply(lambda x: genre in x.split('|'))"
   ]
  },
  {
   "cell_type": "code",
   "execution_count": 27,
   "id": "ed110d7d",
   "metadata": {},
   "outputs": [
    {
     "data": {
      "text/plain": [
       "Index(['popularity', 'budget', 'revenue', 'original_title', 'cast', 'director',\n",
       "       'tagline', 'keywords', 'overview', 'runtime', 'genres',\n",
       "       'production_companies', 'release_date', 'vote_count', 'vote_average',\n",
       "       'release_year', 'budget_adj', 'revenue_adj', 'income', 'genre_Comedy',\n",
       "       'genre_Fantasy', 'genre_Foreign', 'genre_Music', 'genre_History',\n",
       "       'genre_Animation', 'genre_Science Fiction', 'genre_Crime',\n",
       "       'genre_Adventure', 'genre_Romance', 'genre_Mystery', 'genre_Thriller',\n",
       "       'genre_Drama', 'genre_Horror', 'genre_Action', 'genre_Documentary',\n",
       "       'genre_TV Movie', 'genre_Not_Provided', 'genre_Family', 'genre_Western',\n",
       "       'genre_War'],\n",
       "      dtype='object')"
      ]
     },
     "execution_count": 27,
     "metadata": {},
     "output_type": "execute_result"
    }
   ],
   "source": [
    "genre_df.columns"
   ]
  },
  {
   "cell_type": "code",
   "execution_count": 28,
   "id": "a66c01a3",
   "metadata": {},
   "outputs": [
    {
     "data": {
      "text/plain": [
       "(33819107.72152208, 2750136650.919176)"
      ]
     },
     "execution_count": 28,
     "metadata": {},
     "output_type": "execute_result"
    }
   ],
   "source": [
    "genre_df['income'].mean(), max(genre_df['income'])"
   ]
  },
  {
   "cell_type": "code",
   "execution_count": 29,
   "id": "74af6091",
   "metadata": {},
   "outputs": [],
   "source": [
    "genres_col = ['genre_Not_Provided', 'genre_Action', 'genre_War', 'genre_Western',\n",
    "       'genre_Horror', 'genre_Music', 'genre_Romance', 'genre_Documentary',\n",
    "       'genre_Comedy', 'genre_Science Fiction', 'genre_Thriller',\n",
    "       'genre_History', 'genre_Animation', 'genre_Drama', 'genre_TV Movie',\n",
    "       'genre_Adventure', 'genre_Foreign', 'genre_Mystery', 'genre_Fantasy',\n",
    "       'genre_Crime', 'genre_Family']"
   ]
  },
  {
   "cell_type": "code",
   "execution_count": 30,
   "id": "f33d0e8a",
   "metadata": {},
   "outputs": [
    {
     "data": {
      "image/png": "[encoded data removed]",
      "text/plain": [
       "<Figure size 432x288 with 1 Axes>"
      ]
     },
     "metadata": {
      "needs_background": "light"
     },
     "output_type": "display_data"
    },
    {
     "data": {
      "image/png": "[encoded data removed]",
      "text/plain": [
       "<Figure size 432x288 with 1 Axes>"
      ]
     },
     "metadata": {
      "needs_background": "light"
     },
     "output_type": "display_data"
    },
    {
     "data": {
      "image/png": "[encoded data removed]",
      "text/plain": [
       "<Figure size 432x288 with 1 Axes>"
      ]
     },
     "metadata": {
      "needs_background": "light"
     },
     "output_type": "display_data"
    },
    {
     "data": {
      "image/png": "[encoded data removed]",
      "text/plain": [
       "<Figure size 432x288 with 1 Axes>"
      ]
     },
     "metadata": {
      "needs_background": "light"
     },
     "output_type": "display_data"
    },
    {
     "data": {
      "image/png": "[encoded data removed]",
      "text/plain": [
       "<Figure size 432x288 with 1 Axes>"
      ]
     },
     "metadata": {
      "needs_background": "light"
     },
     "output_type": "display_data"
    },
    {
     "data": {
      "image/png": "[encoded data removed]",
      "text/plain": [
       "<Figure size 432x288 with 1 Axes>"
      ]
     },
     "metadata": {
      "needs_background": "light"
     },
     "output_type": "display_data"
    },
    {
     "data": {
      "image/png": "[encoded data removed]",
      "text/plain": [
       "<Figure size 432x288 with 1 Axes>"
      ]
     },
     "metadata": {
      "needs_background": "light"
     },
     "output_type": "display_data"
    },
    {
     "data": {
      "image/png": "[encoded data removed]",
      "text/plain": [
       "<Figure size 432x288 with 1 Axes>"
      ]
     },
     "metadata": {
      "needs_background": "light"
     },
     "output_type": "display_data"
    },
    {
     "data": {
      "image/png": "[encoded data removed]",
      "text/plain": [
       "<Figure size 432x288 with 1 Axes>"
      ]
     },
     "metadata": {
      "needs_background": "light"
     },
     "output_type": "display_data"
    },
    {
     "data": {
      "image/png": "[encoded data removed]",
      "text/plain": [
       "<Figure size 432x288 with 1 Axes>"
      ]
     },
     "metadata": {
      "needs_background": "light"
     },
     "output_type": "display_data"
    },
    {
     "data": {
      "image/png": "[encoded data removed]",
      "text/plain": [
       "<Figure size 432x288 with 1 Axes>"
      ]
     },
     "metadata": {
      "needs_background": "light"
     },
     "output_type": "display_data"
    },
    {
     "data": {
      "image/png": "[encoded data removed]",
      "text/plain": [
       "<Figure size 432x288 with 1 Axes>"
      ]
     },
     "metadata": {
      "needs_background": "light"
     },
     "output_type": "display_data"
    },
    {
     "data": {
      "image/png": "[encoded data removed]",
      "text/plain": [
       "<Figure size 432x288 with 1 Axes>"
      ]
     },
     "metadata": {
      "needs_background": "light"
     },
     "output_type": "display_data"
    },
    {
     "data": {
      "image/png": "[encoded data removed]",
      "text/plain": [
       "<Figure size 432x288 with 1 Axes>"
      ]
     },
     "metadata": {
      "needs_background": "light"
     },
     "output_type": "display_data"
    },
    {
     "data": {
      "image/png": "[encoded data removed]",
      "text/plain": [
       "<Figure size 432x288 with 1 Axes>"
      ]
     },
     "metadata": {
      "needs_background": "light"
     },
     "output_type": "display_data"
    },
    {
     "data": {
      "image/png": "[encoded data removed]",
      "text/plain": [
       "<Figure size 432x288 with 1 Axes>"
      ]
     },
     "metadata": {
      "needs_background": "light"
     },
     "output_type": "display_data"
    },
    {
     "data": {
      "image/png": "[encoded data removed]",
      "text/plain": [
       "<Figure size 432x288 with 1 Axes>"
      ]
     },
     "metadata": {
      "needs_background": "light"
     },
     "output_type": "display_data"
    },
    {
     "data": {
      "image/png": "[encoded data removed]",
      "text/plain": [
       "<Figure size 432x288 with 1 Axes>"
      ]
     },
     "metadata": {
      "needs_background": "light"
     },
     "output_type": "display_data"
    },
    {
     "data": {
      "image/png": "[encoded data removed]",
      "text/plain": [
       "<Figure size 432x288 with 1 Axes>"
      ]
     },
     "metadata": {
      "needs_background": "light"
     },
     "output_type": "display_data"
    },
    {
     "data": {
      "image/png": "[encoded data removed]",
      "text/plain": [
       "<Figure size 432x288 with 1 Axes>"
      ]
     },
     "metadata": {
      "needs_background": "light"
     },
     "output_type": "display_data"
    },
    {
     "data": {
      "image/png": "[encoded data removed]",
      "text/plain": [
       "<Figure size 432x288 with 1 Axes>"
      ]
     },
     "metadata": {
      "needs_background": "light"
     },
     "output_type": "display_data"
    }
   ],
   "source": [
    "# fig, ax = plt.subplots(len(genres_col))\n",
    "# plt.figure(figsize=(16, 10));\n",
    "for genre in genres_col:\n",
    "    genre_df.groupby(genre)['revenue_adj'].mean().plot(kind='bar')\n",
    "    plt.title(f'{genre} vs Revenue')\n",
    "    plt.show()"
   ]
  },
  {
   "cell_type": "markdown",
   "id": "31c353dc",
   "metadata": {},
   "source": [
    "### As shown above, movies in the following genre generate more revenue\n",
    "- Action\n",
    "- Science Fiction\n",
    "- Animation\n",
    "- Adventure\n",
    "- Fantasy\n",
    "- Family\n",
    "\n",
    "### While movies in the following genre tend to generate lesser revenue\n",
    "- Horror\n",
    "- Documentary\n",
    "- Drama\n",
    "- TV Movie\n",
    "- Foreign"
   ]
  },
  {
   "cell_type": "markdown",
   "id": "86705c93",
   "metadata": {},
   "source": [
    "# How does the movie directors affect the income of movies?\n",
    "## Inspecting movie directors"
   ]
  },
  {
   "cell_type": "code",
   "execution_count": 31,
   "id": "c37224d2",
   "metadata": {},
   "outputs": [
    {
     "data": {
      "text/plain": [
       "36"
      ]
     },
     "execution_count": 31,
     "metadata": {},
     "output_type": "execute_result"
    }
   ],
   "source": [
    "max(df['director'].apply(lambda x: len(x.split('|'))))"
   ]
  },
  {
   "cell_type": "code",
   "execution_count": 32,
   "id": "d343a147",
   "metadata": {},
   "outputs": [
    {
     "data": {
      "text/plain": [
       "(11935, 5363)"
      ]
     },
     "execution_count": 32,
     "metadata": {},
     "output_type": "execute_result"
    }
   ],
   "source": [
    "director_list = list(df['director'].apply(lambda x: x.split('|')))\n",
    "join_director = [dirc for kdirc in director_list for dirc in kdirc]\n",
    "len(join_director), len(set(join_director))"
   ]
  },
  {
   "cell_type": "code",
   "execution_count": 33,
   "id": "d38e2cfa",
   "metadata": {},
   "outputs": [],
   "source": [
    "unique_directors = set(join_director)"
   ]
  },
  {
   "cell_type": "code",
   "execution_count": 34,
   "id": "85122e15",
   "metadata": {},
   "outputs": [
    {
     "name": "stderr",
     "output_type": "stream",
     "text": [
      "/tmp/ipykernel_15042/2769580703.py:3: PerformanceWarning: DataFrame is highly fragmented.  This is usually the result of calling `frame.insert` many times, which has poor performance.  Consider using pd.concat instead.  To get a de-fragmented frame, use `newframe = frame.copy()`\n",
      "  directors_df[f'director_{director}'] = df['director'].apply(lambda x: director in x.split('|'))\n"
     ]
    }
   ],
   "source": [
    "directors_df = df.copy()\n",
    "for director in unique_directors:\n",
    "    directors_df[f'director_{director}'] = df['director'].apply(lambda x: director in x.split('|'))"
   ]
  },
  {
   "cell_type": "code",
   "execution_count": 35,
   "id": "f5149c0a",
   "metadata": {},
   "outputs": [
    {
     "data": {
      "text/plain": [
       "Index(['popularity', 'budget', 'revenue', 'original_title', 'cast', 'director',\n",
       "       'tagline', 'keywords', 'overview', 'runtime',\n",
       "       ...\n",
       "       'director_Graham Annable', 'director_Andrews Jenkins',\n",
       "       'director_Craig Shapiro', 'director_Keith Fulton',\n",
       "       'director_Nathan H. Juran', 'director_Shane Van Dyke',\n",
       "       'director_Rob Bowman', 'director_Jerry Lewis',\n",
       "       'director_Michael LaBash', 'director_Joe Dante'],\n",
       "      dtype='object', length=5382)"
      ]
     },
     "execution_count": 35,
     "metadata": {},
     "output_type": "execute_result"
    }
   ],
   "source": [
    "directors_df.columns"
   ]
  },
  {
   "cell_type": "code",
   "execution_count": 36,
   "id": "31dbbeee",
   "metadata": {},
   "outputs": [],
   "source": [
    "director_cols = [col for col in directors_df.columns if col.startswith('director_')]"
   ]
  },
  {
   "cell_type": "code",
   "execution_count": 37,
   "id": "e889dbdb",
   "metadata": {},
   "outputs": [
    {
     "data": {
      "text/plain": [
       "['director_Peter Howitt', 'director_Luke Moran']"
      ]
     },
     "execution_count": 37,
     "metadata": {},
     "output_type": "execute_result"
    }
   ],
   "source": [
    "director_cols[:2]"
   ]
  },
  {
   "cell_type": "code",
   "execution_count": 38,
   "id": "1d4aae6d",
   "metadata": {},
   "outputs": [
    {
     "data": {
      "text/plain": [
       "51369001.75884263"
      ]
     },
     "execution_count": 38,
     "metadata": {},
     "output_type": "execute_result"
    }
   ],
   "source": [
    "df['revenue_adj'].mean()"
   ]
  },
  {
   "cell_type": "code",
   "execution_count": 39,
   "id": "33701b57",
   "metadata": {},
   "outputs": [],
   "source": [
    "top_directors = {}\n",
    "for director in director_cols:\n",
    "    if directors_df.groupby(director)['director'].count()[1] > 10:\n",
    "        if directors_df.groupby(director)['revenue_adj'].mean()[1] > df['revenue_adj'].mean():\n",
    "            top_directors[director.split('_')[1]] = directors_df.groupby(director)['revenue_adj'].mean()[1]"
   ]
  },
  {
   "cell_type": "code",
   "execution_count": 40,
   "id": "48ea7f2f",
   "metadata": {},
   "outputs": [
    {
     "data": {
      "text/plain": [
       "{'James Cameron': 666110987.1263167,\n",
       " 'Steven Spielberg': 508897467.89766926,\n",
       " 'Peter Jackson': 501417701.1770545,\n",
       " 'Michael Bay': 496424723.4763687,\n",
       " 'Roland Emmerich': 370634635.77061605,\n",
       " 'Chris Columbus': 363862659.0028005,\n",
       " 'Robert Zemeckis': 332685191.1363859,\n",
       " 'Sam Raimi': 256841560.25965852,\n",
       " 'John Lasseter': 243764619.4366947,\n",
       " 'Tim Burton': 233007059.08422202,\n",
       " 'Richard Donner': 209632480.76296523,\n",
       " 'Shawn Levy': 208618236.3664966,\n",
       " 'Ron Howard': 205777067.35384226,\n",
       " 'William Friedkin': 204039890.92568192,\n",
       " 'Tony Scott': 197278394.59782138,\n",
       " 'Jay Roach': 188971895.16594222,\n",
       " 'Ridley Scott': 183459390.3609846,\n",
       " 'Brett Ratner': 181072794.44680682,\n",
       " 'Ivan Reitman': 177687204.03499752,\n",
       " 'Mike Newell': 163038250.08697006,\n",
       " 'Garry Marshall': 150414373.32884625,\n",
       " 'Sydney Pollack': 140292855.6042467,\n",
       " 'Francis Ford Coppola': 140245712.6684899,\n",
       " 'Peter Farrelly': 140239991.53228486,\n",
       " 'Quentin Tarantino': 134946221.7455444,\n",
       " 'Dennis Dugan': 131059853.05567895,\n",
       " 'Bobby Farrelly': 129907841.23933159,\n",
       " 'Phillip Noyce': 118434244.87246029,\n",
       " 'Michael Mann': 115499243.7561978,\n",
       " 'John G. Avildsen': 112869588.60638843,\n",
       " 'Mel Brooks': 111346019.92891611,\n",
       " 'Oliver Stone': 108577010.13782084,\n",
       " 'Peter Weir': 108246249.86099048,\n",
       " 'Clint Eastwood': 107637917.71944207,\n",
       " 'Steven Soderbergh': 107620595.77412255,\n",
       " 'Mike Nichols': 107222345.61614037,\n",
       " 'John Landis': 105419088.58224392,\n",
       " 'Joel Schumacher': 99758450.06614701,\n",
       " 'Barry Levinson': 99731420.32209665,\n",
       " 'John Badham': 94317316.24326842,\n",
       " 'Renny Harlin': 88103971.65756747,\n",
       " 'Michael Apted': 83325421.42551121,\n",
       " 'Brian De Palma': 82479380.46982405,\n",
       " 'Roger Donaldson': 78958333.95152815,\n",
       " 'Martin Scorsese': 78275547.78913955,\n",
       " 'Rob Reiner': 76407965.68494922,\n",
       " 'Danny Boyle': 68289828.60747741,\n",
       " 'Robert Rodriguez': 67782466.18074632,\n",
       " 'Lasse HallstrÃ¶m': 67155757.45994583,\n",
       " 'Joel Coen': 64065374.834952846,\n",
       " 'Wes Craven': 62149490.40605751,\n",
       " 'Don Bluth': 62035971.95731709,\n",
       " 'Curtis Hanson': 60702265.48296328,\n",
       " 'Stephen Herek': 58578373.67181606,\n",
       " 'Joe Dante': 57214982.212823056,\n",
       " 'Blake Edwards': 54485756.40885381}"
      ]
     },
     "execution_count": 40,
     "metadata": {},
     "output_type": "execute_result"
    }
   ],
   "source": [
    "{k: v for k, v in sorted(top_directors.items(), key=lambda item: item[1], reverse=True)}"
   ]
  },
  {
   "cell_type": "markdown",
   "id": "08e3234d",
   "metadata": {},
   "source": [
    "### As displayed above, after comparing directors with more than 10 movies, we can see that the following director's movies have higher revenue\n",
    "- James Cameron\n",
    "- Steven Spielberg\n",
    "- Peter Jackson\n",
    "- Michael Bay\n",
    "- Roland Emmerich"
   ]
  },
  {
   "cell_type": "markdown",
   "id": "4bc826d9",
   "metadata": {},
   "source": [
    "# How does the movie cast affect the income of movies?\n",
    "## Inspecting movies cast"
   ]
  },
  {
   "cell_type": "code",
   "execution_count": 41,
   "id": "3580a7bf",
   "metadata": {},
   "outputs": [
    {
     "data": {
      "text/plain": [
       "5"
      ]
     },
     "execution_count": 41,
     "metadata": {},
     "output_type": "execute_result"
    }
   ],
   "source": [
    "max(df['cast'].apply(lambda x: len(x.split('|'))))"
   ]
  },
  {
   "cell_type": "code",
   "execution_count": 42,
   "id": "28b6579b",
   "metadata": {},
   "outputs": [
    {
     "data": {
      "text/plain": [
       "(52644, 19027)"
      ]
     },
     "execution_count": 42,
     "metadata": {},
     "output_type": "execute_result"
    }
   ],
   "source": [
    "cast_list = list(df['cast'].apply(lambda x: x.split('|')))\n",
    "join_cast = [cast for kcast in cast_list for cast in kcast]\n",
    "len(join_cast), len(set(join_cast))"
   ]
  },
  {
   "cell_type": "code",
   "execution_count": 43,
   "id": "45a03144",
   "metadata": {},
   "outputs": [],
   "source": [
    "unique_casts = set(join_cast)"
   ]
  },
  {
   "cell_type": "code",
   "execution_count": 44,
   "id": "ba817f75",
   "metadata": {
    "scrolled": true
   },
   "outputs": [
    {
     "name": "stderr",
     "output_type": "stream",
     "text": [
      "/tmp/ipykernel_15042/1650196693.py:3: PerformanceWarning: DataFrame is highly fragmented.  This is usually the result of calling `frame.insert` many times, which has poor performance.  Consider using pd.concat instead.  To get a de-fragmented frame, use `newframe = frame.copy()`\n",
      "  cast_df[f'cast_{cast}'] = df['cast'].apply(lambda x: cast in x.split('|'))\n"
     ]
    }
   ],
   "source": [
    "cast_df = df.copy()\n",
    "for cast in unique_casts:\n",
    "    cast_df[f'cast_{cast}'] = df['cast'].apply(lambda x: cast in x.split('|'))"
   ]
  },
  {
   "cell_type": "code",
   "execution_count": 45,
   "id": "0a335508",
   "metadata": {},
   "outputs": [
    {
     "data": {
      "text/plain": [
       "19046"
      ]
     },
     "execution_count": 45,
     "metadata": {},
     "output_type": "execute_result"
    }
   ],
   "source": [
    "len(cast_df.columns)"
   ]
  },
  {
   "cell_type": "code",
   "execution_count": 46,
   "id": "92d4bea8",
   "metadata": {},
   "outputs": [],
   "source": [
    "cast_cols = [col for col in cast_df.columns if col.startswith('cast_')]"
   ]
  },
  {
   "cell_type": "code",
   "execution_count": 47,
   "id": "d84c3901",
   "metadata": {},
   "outputs": [
    {
     "data": {
      "text/plain": [
       "['cast_Leigh-Allyn Baker', 'cast_Grace Zabriskie']"
      ]
     },
     "execution_count": 47,
     "metadata": {},
     "output_type": "execute_result"
    }
   ],
   "source": [
    "cast_cols[:2]"
   ]
  },
  {
   "cell_type": "code",
   "execution_count": 48,
   "id": "9f1a130d",
   "metadata": {},
   "outputs": [],
   "source": [
    "top_casts = {}\n",
    "for cast in cast_cols:\n",
    "    if cast_df.groupby(cast)['cast'].count()[1] > 10:\n",
    "        if cast_df.groupby(cast)['revenue_adj'].mean()[1] > df['revenue_adj'].mean():\n",
    "            top_casts[cast.split('_')[1]] = cast_df.groupby(cast)['revenue_adj'].mean()[1]"
   ]
  },
  {
   "cell_type": "code",
   "execution_count": 49,
   "id": "b0b62b0d",
   "metadata": {},
   "outputs": [
    {
     "data": {
      "text/plain": [
       "{'Emma Watson': 629024100.1111324,\n",
       " 'Carrie Fisher': 591172903.9699365,\n",
       " 'Daniel Radcliffe': 532192639.68366516,\n",
       " 'Rupert Grint': 522399381.3597659,\n",
       " 'Orlando Bloom': 439699391.4910922,\n",
       " 'Mark Hamill': 411023763.7175235,\n",
       " 'Ian McKellen': 394151036.045409,\n",
       " 'Julie Andrews': 374920252.9346237,\n",
       " 'Will Smith': 353438302.0548761,\n",
       " 'Harrison Ford': 349606741.5644566,\n",
       " 'Michelle Rodriguez': 320086844.6738206,\n",
       " 'Chris Hemsworth': 314587303.36889136,\n",
       " 'Roger Moore': 304423359.17647356,\n",
       " 'Tom Cruise': 303048655.2223476,\n",
       " 'Denis Leary': 284759722.74190646,\n",
       " 'Sam Worthington': 268302737.68105885,\n",
       " 'Joe Pesci': 253400048.05044428,\n",
       " 'Liam Hemsworth': 252191515.57385242,\n",
       " 'Tyrese Gibson': 251855022.6810418,\n",
       " 'Mike Myers': 247424931.38590723,\n",
       " 'Dwayne Johnson': 242530406.36068287,\n",
       " 'Liv Tyler': 241552334.61998186,\n",
       " 'Leonardo DiCaprio': 241101094.77634266,\n",
       " 'Peter Facinelli': 239235862.31903684,\n",
       " 'Frances Fisher': 237893951.5429203,\n",
       " 'Bonnie Hunt': 237188488.57365677,\n",
       " 'Anne Hathaway': 235831680.82879946,\n",
       " 'Zoe Saldana': 235346607.79860517,\n",
       " 'Vin Diesel': 234523259.99751827,\n",
       " 'Tom Hanks': 232008372.939564,\n",
       " 'Shia LaBeouf': 231891771.7206552,\n",
       " 'Roy Scheider': 231234351.84408003,\n",
       " 'Jennifer Lawrence': 226045059.96625644,\n",
       " 'Natalie Portman': 217945428.1190522,\n",
       " 'Ralph Fiennes': 216998439.08708778,\n",
       " 'Richard Dreyfuss': 216524178.29270336,\n",
       " 'Chris Evans': 216228774.4015189,\n",
       " 'Tobey Maguire': 215800185.10779703,\n",
       " 'Billy Zane': 214450589.53113493,\n",
       " 'Robert Pattinson': 213935490.4864895,\n",
       " 'Daniel Craig': 211613405.7058327,\n",
       " 'Andy Serkis': 210724052.92333648,\n",
       " 'Josh Duhamel': 210253682.14592147,\n",
       " 'Cameron Diaz': 208674877.2653415,\n",
       " 'Kevin James': 207869236.65507957,\n",
       " 'Max von Sydow': 207280881.4602858,\n",
       " 'Martin Freeman': 207044354.8385494,\n",
       " 'Eddie Murphy': 204104514.39367208,\n",
       " 'Sandra Bullock': 203359879.26405603,\n",
       " 'Carl Weathers': 202102832.4984082,\n",
       " 'Megan Fox': 199644145.09514698,\n",
       " 'Hugo Weaving': 198777162.6264887,\n",
       " 'Gary Oldman': 198491466.48839372,\n",
       " 'Ben Stiller': 197814174.94222617,\n",
       " 'Marlon Brando': 197561611.87709588,\n",
       " 'Henry Thomas': 197523856.4508915,\n",
       " 'Paul Walker': 197035407.1528177,\n",
       " 'Stephen Lang': 196220890.24709332,\n",
       " 'Brad Pitt': 195785699.6307529,\n",
       " 'Josh Hutcherson': 195696924.56759897,\n",
       " 'Geoffrey Rush': 193513512.68382096,\n",
       " 'Viggo Mortensen': 192526114.83735093,\n",
       " 'Richard Attenborough': 191526967.21101698,\n",
       " 'Sean Connery': 186654695.62218535,\n",
       " 'Gary Sinise': 186302738.89985397,\n",
       " 'Johnny Depp': 186185296.79712075,\n",
       " 'Scarlett Johansson': 183893246.06013465,\n",
       " 'Arnold Schwarzenegger': 182577189.80635232,\n",
       " 'Jim Carrey': 181899786.73127,\n",
       " 'Judge Reinhold': 180859921.23007882,\n",
       " 'Barbra Streisand': 179186274.67501253,\n",
       " 'Bradley Cooper': 179118274.43576592,\n",
       " 'Sigourney Weaver': 178904779.05976528,\n",
       " 'Angelina Jolie': 175846593.9920338,\n",
       " 'Ronny Cox': 175339587.17623195,\n",
       " 'Helena Bonham Carter': 175026460.982654,\n",
       " 'Emma Stone': 174176328.06749335,\n",
       " 'Michael Keaton': 173238088.94838253,\n",
       " 'Robert Downey Jr.': 172731456.70173365,\n",
       " 'Lea Thompson': 169943499.9269252,\n",
       " 'Julia Roberts': 169455633.44005588,\n",
       " 'Hugh Jackman': 168012855.89609954,\n",
       " 'Mel Gibson': 168002833.99846,\n",
       " 'Simon Pegg': 167841612.51258725,\n",
       " 'Leonard Nimoy': 167812666.86728084,\n",
       " 'Rene Russo': 166427375.20248646,\n",
       " 'Kathy Bates': 166183262.1407419,\n",
       " 'Dustin Hoffman': 164820068.06644216,\n",
       " 'Jada Pinkett Smith': 163941159.89456972,\n",
       " 'Julie Walters': 162354234.38769555,\n",
       " 'Keira Knightley': 161284089.81344083,\n",
       " 'Seann William Scott': 157842528.256062,\n",
       " 'John Leguizamo': 156607871.35160118,\n",
       " 'Kristen Stewart': 156588608.4257777,\n",
       " 'Sylvester Stallone': 156412989.4517079,\n",
       " 'Sally Field': 156131708.05312708,\n",
       " 'Judi Dench': 155939626.46100232,\n",
       " 'George Clooney': 155771240.82146433,\n",
       " 'Peter Coyote': 153793600.5072755,\n",
       " 'Robert Redford': 153445909.9959725,\n",
       " 'Michael J. Fox': 153352359.53027365,\n",
       " 'Hank Azaria': 153197030.31466082,\n",
       " 'Ned Beatty': 152996193.26450938,\n",
       " 'Gene Wilder': 152099980.12537083,\n",
       " 'Jeremy Renner': 152098228.838926,\n",
       " 'Jamie Foxx': 151951075.64206618,\n",
       " 'Mark Ruffalo': 151265290.25502107,\n",
       " 'Elijah Wood': 150953663.2405505,\n",
       " 'Russell Crowe': 150216477.5441805,\n",
       " 'Alan Rickman': 150212828.73933873,\n",
       " 'Javier Bardem': 148947761.6744096,\n",
       " 'Robin Williams': 148143230.81466126,\n",
       " 'Hayden Christensen': 147497160.89447874,\n",
       " 'Steve Carell': 147024141.7544025,\n",
       " 'Kirsten Dunst': 146636297.44118473,\n",
       " 'Jean Reno': 146319800.55364984,\n",
       " 'Eva Green': 145954211.10292065,\n",
       " 'Cate Blanchett': 145539352.45199156,\n",
       " 'Michael Gambon': 144388866.50180972,\n",
       " 'Crispin Glover': 144150987.89354542,\n",
       " 'Thandie Newton': 143818638.1086643,\n",
       " 'Matt Damon': 143595335.34450993,\n",
       " 'RenÃ©e Zellweger': 143338470.17726725,\n",
       " 'Famke Janssen': 142462216.0644731,\n",
       " 'Ellen Burstyn': 142170205.69973305,\n",
       " 'Tommy Lee Jones': 141757958.64603058,\n",
       " 'Paul Newman': 141563567.68780956,\n",
       " 'Jason Lee': 141327191.00232592,\n",
       " 'Queen Latifah': 140755714.5078403,\n",
       " 'Gwyneth Paltrow': 140716179.4006506,\n",
       " 'John Rhys-Davies': 140471501.1039866,\n",
       " 'Ian McShane': 140126373.3784068,\n",
       " 'Jack Black': 138460053.32405192,\n",
       " 'Adam Sandler': 137626273.94062194,\n",
       " 'Jeff Goldblum': 137335365.37881398,\n",
       " 'Jackie Chan': 136947948.8879552,\n",
       " 'Heath Ledger': 136189458.6988434,\n",
       " 'Tom Hardy': 135911243.69513926,\n",
       " 'Jonah Hill': 135691330.62990737,\n",
       " 'Patrick Stewart': 135402912.64860895,\n",
       " 'Frances McDormand': 135256349.69808426,\n",
       " 'Rowan Atkinson': 135016504.94357848,\n",
       " 'Peter Cushing': 134888340.85664654,\n",
       " 'Allison Janney': 134129278.40451089,\n",
       " 'Rick Moranis': 133485671.50004628,\n",
       " 'Jon Voight': 133402209.91891363,\n",
       " 'Christian Bale': 133333049.89112966,\n",
       " 'Kate Winslet': 133224246.22956024,\n",
       " 'Bruce Willis': 133113724.27885805,\n",
       " 'John Travolta': 132864224.67117953,\n",
       " 'Paul Bettany': 132768304.8640458,\n",
       " 'Tim Allen': 132585812.20158353,\n",
       " 'Owen Wilson': 132581676.95465133,\n",
       " 'Leslie Mann': 132406735.9433903,\n",
       " 'Ioan Gruffudd': 131984403.75405326,\n",
       " 'Kristen Wiig': 131979160.96823838,\n",
       " 'Jason Segel': 131916930.52564451,\n",
       " 'Rosamund Pike': 131713935.82311527,\n",
       " 'Liam Neeson': 131696109.41516186,\n",
       " 'Burgess Meredith': 131593387.44536042,\n",
       " 'Don Cheadle': 130302363.44468005,\n",
       " 'Antonio Banderas': 129134829.60690627,\n",
       " 'Craig T. Nelson': 128169377.46652697,\n",
       " 'Chiwetel Ejiofor': 128037428.23976344,\n",
       " 'Haley Joel Osment': 127666618.24377151,\n",
       " 'Daniel Stern': 126025051.39093354,\n",
       " 'Maggie Smith': 125874881.71250767,\n",
       " 'Michael Douglas': 125835891.21906024,\n",
       " 'Elizabeth Banks': 125436295.12810415,\n",
       " 'Jane Lynch': 125290329.27900161,\n",
       " 'William Shatner': 124636065.92696327,\n",
       " 'Benjamin Bratt': 124595128.4400913,\n",
       " 'Bill Paxton': 124469557.38211174,\n",
       " 'James Caan': 123804492.62724414,\n",
       " 'Bill Nighy': 123680313.71948989,\n",
       " 'James Earl Jones': 123465387.17516108,\n",
       " 'Chris Pine': 122734407.10886434,\n",
       " 'Burt Reynolds': 122733339.8574692,\n",
       " 'David Cross': 122536906.15739125,\n",
       " 'Helen Hunt': 122133406.58753794,\n",
       " 'Ewan McGregor': 121942828.28149469,\n",
       " 'Vince Vaughn': 121813675.10858506,\n",
       " 'Amy Adams': 120212887.41251059,\n",
       " 'Mark Wahlberg': 120066751.721197,\n",
       " 'William Atherton': 119986838.09102076,\n",
       " 'Robbie Coltrane': 119982213.23384741,\n",
       " 'Will Patton': 119663953.74262124,\n",
       " 'Richard Harris': 119645101.1607935,\n",
       " 'HÃ©ctor Elizondo': 119628099.00669603,\n",
       " 'TÃ©a Leoni': 119497238.2798844,\n",
       " 'Pierce Brosnan': 118716885.00615737,\n",
       " 'Neil Patrick Harris': 118178346.22723307,\n",
       " 'Billy Crystal': 118100166.16080071,\n",
       " 'Drew Barrymore': 118064262.39357354,\n",
       " 'Jay Baruchel': 117930034.02049945,\n",
       " 'Kevin Costner': 117540357.62735291,\n",
       " 'Eric Bana': 117258743.47072613,\n",
       " 'Carrie-Anne Moss': 116856038.77128969,\n",
       " 'Tom Skerritt': 116710516.29349686,\n",
       " 'Jon Hamm': 116206590.37338963,\n",
       " 'Gary Busey': 116008972.9455203,\n",
       " 'Bill Pullman': 115576815.34991775,\n",
       " 'Denzel Washington': 115401556.7386405,\n",
       " 'Halle Berry': 115160781.49601716,\n",
       " 'Gene Hackman': 114986985.85847008,\n",
       " 'James Cromwell': 114750805.18430626,\n",
       " 'Chris Rock': 114719503.76158848,\n",
       " \"Vincent D'Onofrio\": 114300165.11755633,\n",
       " 'Thomas Haden Church': 113547339.69066091,\n",
       " 'William Fichtner': 113502505.67779365,\n",
       " 'Keanu Reeves': 113448341.17462371,\n",
       " 'Pat Hingle': 113329184.400638,\n",
       " 'James Franco': 112870493.90304191,\n",
       " 'Elizabeth Perkins': 112776297.01809946,\n",
       " 'Will Arnett': 112642699.5707742,\n",
       " 'Al Pacino': 112540815.37542103,\n",
       " 'Samuel L. Jackson': 112353194.42585467,\n",
       " 'Scott Glenn': 112122768.27315386,\n",
       " 'Patrick Dempsey': 111868743.13004236,\n",
       " 'Paula Patton': 111862768.82878233,\n",
       " 'Oliver Platt': 111397520.71962623,\n",
       " 'PenÃ©lope Cruz': 111225596.12220907,\n",
       " 'Steve McQueen': 110905637.94429073,\n",
       " 'Rachel Weisz': 110808504.63009705,\n",
       " 'John Heard': 110351996.6160503,\n",
       " 'Jason Statham': 110261647.45713584,\n",
       " 'Catherine Zeta-Jones': 110193220.44350685,\n",
       " 'Robert Duvall': 109986408.14634399,\n",
       " 'Carla Gugino': 109896926.40298757,\n",
       " 'Jack Nicholson': 109821900.74805224,\n",
       " 'Courteney Cox': 109049082.23394835,\n",
       " 'Michael York': 108931238.41386014,\n",
       " 'Christopher Lloyd': 108682943.79675211,\n",
       " 'Bill Hader': 108394389.3088905,\n",
       " 'Jeremy Northam': 108320732.27040797,\n",
       " 'Zach Galifianakis': 108035901.13029839,\n",
       " 'Michael Caine': 107976275.41787718,\n",
       " 'Hayden Panettiere': 107864066.91595279,\n",
       " 'Rip Torn': 107828400.23041654,\n",
       " 'Matthew Broderick': 107616039.52213444,\n",
       " 'Karl Urban': 107397009.0746868,\n",
       " 'Jeffrey Wright': 107240292.47620805,\n",
       " 'Ving Rhames': 106927616.20919311,\n",
       " 'Christopher Plummer': 106872735.09812017,\n",
       " 'George Kennedy': 106468857.0315759,\n",
       " 'Ben Affleck': 105971636.49655436,\n",
       " 'Jason Biggs': 105941636.21454123,\n",
       " 'Joan Cusack': 105585873.5588581,\n",
       " 'Gerard Butler': 105111656.2526062,\n",
       " 'Martin Lawrence': 104856866.10348287,\n",
       " 'Kim Cattrall': 104382920.26632947,\n",
       " 'Cliff Curtis': 104094896.2872684,\n",
       " 'Morgan Freeman': 103702736.5466048,\n",
       " 'Woody Harrelson': 103552159.37345436,\n",
       " 'Cloris Leachman': 103411410.99104404,\n",
       " 'Jon Favreau': 103326108.74851519,\n",
       " 'David Ogden Stiers': 103303556.05421768,\n",
       " 'Amanda Seyfried': 103099539.9047594,\n",
       " 'Delroy Lindo': 103073499.81483606,\n",
       " 'Anna Faris': 102832253.31830628,\n",
       " 'Michael Clarke Duncan': 102781518.30639584,\n",
       " 'Jennifer Aniston': 102285914.92913312,\n",
       " 'Seth Rogen': 101746020.18307357,\n",
       " 'Anthony Hopkins': 101445022.9887315,\n",
       " 'John Lithgow': 101387326.78901531,\n",
       " 'Sam Neill': 101098274.8758652,\n",
       " 'Laura Dern': 100667307.49552377,\n",
       " 'Danny DeVito': 100509404.95081459,\n",
       " 'Kerry Washington': 100449201.99705799,\n",
       " 'Sean Bean': 100122620.48525688,\n",
       " 'Mila Kunis': 99481973.47617437,\n",
       " 'Elisabeth Shue': 99154001.57901518,\n",
       " \"Chris O'Donnell\": 98696338.80518454,\n",
       " 'Josh Brolin': 98561782.17356953,\n",
       " 'Willem Dafoe': 98429123.61935234,\n",
       " 'Richard Gere': 98082067.89092632,\n",
       " 'Michael Fassbender': 97731082.1081432,\n",
       " 'Hugh Grant': 97723448.94652739,\n",
       " 'Jude Law': 97501568.37064974,\n",
       " 'Holly Hunter': 96892722.69672346,\n",
       " \"Catherine O'Hara\": 96621478.54584816,\n",
       " 'Hugh Laurie': 96533234.68645716,\n",
       " 'Ed Harris': 96510609.59434253,\n",
       " 'Sam Elliott': 96458898.63279073,\n",
       " 'Rachel McAdams': 96305142.29087354,\n",
       " 'Michael PeÃ±a': 96005682.25639942,\n",
       " 'Billy Connolly': 95756834.88272542,\n",
       " 'Glenn Close': 95718133.72093077,\n",
       " 'Kenneth Branagh': 95638587.70038149,\n",
       " 'Mary Steenburgen': 95324476.03968547,\n",
       " 'Peter Boyle': 95295280.90126127,\n",
       " 'Topher Grace': 95147131.4805038,\n",
       " 'Logan Lerman': 94476305.88288106,\n",
       " 'Jason Bateman': 94264526.28184898,\n",
       " 'Elle Fanning': 94221856.36569902,\n",
       " 'Nicolas Cage': 93781382.90330826,\n",
       " 'Mark Strong': 93616439.21274996,\n",
       " 'Bryan Cranston': 93128678.13978978,\n",
       " 'Steve Buscemi': 93104530.60988487,\n",
       " 'Kevin Spacey': 93047396.4875945,\n",
       " 'Jodie Foster': 92762634.47016305,\n",
       " 'Justin Long': 92739302.85152413,\n",
       " 'Justin Timberlake': 92560008.08756466,\n",
       " 'Nathan Lane': 92445961.7249646,\n",
       " 'Amy Poehler': 92213265.24875244,\n",
       " 'Matthew McConaughey': 92189306.91247433,\n",
       " 'Channing Tatum': 92138444.78588392,\n",
       " 'Charlize Theron': 91934026.01064852,\n",
       " 'Robert De Niro': 91866240.3365082,\n",
       " 'Jake Gyllenhaal': 91390034.37637074,\n",
       " 'John Goodman': 91348401.27158535,\n",
       " 'Clint Eastwood': 91321508.4649435,\n",
       " 'Roddy McDowall': 91289114.627362,\n",
       " 'Idris Elba': 91106851.38559873,\n",
       " 'Vincent Cassel': 91037977.77514277,\n",
       " 'Meryl Streep': 90883051.65428826,\n",
       " 'John C. McGinley': 90842552.49084176,\n",
       " 'Amanda Peet': 90669393.3275933,\n",
       " 'Olivia Williams': 90413902.86622052,\n",
       " 'Kathleen Turner': 90387352.35345761,\n",
       " 'Michael Rooker': 90236198.0724313,\n",
       " 'Dan Aykroyd': 90196925.9576143,\n",
       " 'Ben Kingsley': 89764047.30526574,\n",
       " 'Isla Fisher': 89411921.81900087,\n",
       " 'Kris Kristofferson': 89403063.72512312,\n",
       " 'Lauren Holly': 89380556.11561851,\n",
       " 'Cary Elwes': 89246387.9333159,\n",
       " 'Sarah Michelle Gellar': 88850191.32099247,\n",
       " 'Ryan Reynolds': 88813435.49830222,\n",
       " 'Stellan SkarsgÃ¥rd': 88655623.53044632,\n",
       " 'Guy Pearce': 88569230.50740603,\n",
       " 'Emma Thompson': 88500833.58326463,\n",
       " 'Rose Byrne': 88492551.98983768,\n",
       " 'Mia Wasikowska': 88310143.25869945,\n",
       " 'John Malkovich': 88256340.4115493,\n",
       " 'Charles S. Dutton': 88216392.1008943,\n",
       " 'Jeremy Irons': 88110139.61694773,\n",
       " 'Joe Pantoliano': 87866049.29377525,\n",
       " 'Tia Carrere': 87768263.00540903,\n",
       " 'Richard Burton': 87679459.61558507,\n",
       " 'Demi Moore': 87612517.22292617,\n",
       " 'Kristen Bell': 87429806.15861793,\n",
       " 'Philip Seymour Hoffman': 87229440.87711693,\n",
       " 'Jessica Chastain': 87202790.78505076,\n",
       " 'Nicole Kidman': 87138879.12380779,\n",
       " 'Aaron Eckhart': 87018053.42423895,\n",
       " 'Alfre Woodard': 86881085.97660615,\n",
       " 'George Dzundza': 86412252.07585949,\n",
       " 'Jennifer Lopez': 86277237.64409582,\n",
       " 'Eddie Marsan': 85204516.22545977,\n",
       " 'Martin Sheen': 85129030.16085042,\n",
       " 'Kevin Bacon': 85012333.50314882,\n",
       " 'Patrick Swayze': 84979201.02077511,\n",
       " 'Anne Bancroft': 84939847.89213523,\n",
       " 'Olympia Dukakis': 84684336.96958524,\n",
       " 'Djimon Hounsou': 84679814.08139722,\n",
       " 'Cedric the Entertainer': 83683350.17786995,\n",
       " 'Diane Kruger': 83602990.76513815,\n",
       " 'Karl Malden': 83498765.08535248,\n",
       " 'Geena Davis': 83496765.14892884,\n",
       " 'Giovanni Ribisi': 83402963.58068717,\n",
       " 'Laurence Fishburne': 83312442.56649916,\n",
       " 'Sharon Stone': 83098518.3515519,\n",
       " 'Peter Sellers': 83050078.20038153,\n",
       " 'Bill Murray': 82988677.42495607,\n",
       " 'Bette Midler': 82710218.28502622,\n",
       " 'Maggie Grace': 82664776.14975019,\n",
       " 'Robin Wright': 82604689.09587936,\n",
       " 'Judy Greer': 82523381.81004913,\n",
       " 'Ashton Kutcher': 82429412.71487051,\n",
       " 'Johnny Knoxville': 82424325.22653894,\n",
       " 'Jessica Lange': 82374662.07820898,\n",
       " 'Anthony Edwards': 82355356.9054048,\n",
       " 'Dougray Scott': 82269767.5636299,\n",
       " 'Jim Caviezel': 81560463.51029332,\n",
       " 'Jeff Daniels': 81379555.30511153,\n",
       " 'Ernest Borgnine': 81273162.29907185,\n",
       " 'Garrett Hedlund': 80846193.92058066,\n",
       " 'Charles Durning': 80717295.66315857,\n",
       " 'Freddie Prinze Jr.': 80502533.55270253,\n",
       " 'Edward Furlong': 80274032.14451365,\n",
       " 'Brendan Gleeson': 80217120.32746035,\n",
       " 'Stanley Tucci': 80180805.82382987,\n",
       " 'Andy GarcÃ\\xada': 79770632.46830885,\n",
       " 'Robert Patrick': 79646798.54468097,\n",
       " 'Emily Blunt': 79547151.68838774,\n",
       " 'Audrey Hepburn': 79429845.34005748,\n",
       " 'Will Ferrell': 79332054.55043787,\n",
       " 'Val Kilmer': 79137302.50296357,\n",
       " 'Dennis Farina': 79124581.35058922,\n",
       " 'Robert Carlyle': 78937859.27070574,\n",
       " 'Pete Postlethwaite': 78920839.26823266,\n",
       " 'Bob Hoskins': 78864799.3833742,\n",
       " 'James McAvoy': 78798821.61000416,\n",
       " 'Chris Klein': 78756485.08775678,\n",
       " 'Thomas Kretschmann': 78722138.31676823,\n",
       " 'Ellen Page': 78469958.07503435,\n",
       " 'Regina King': 78192010.81702743,\n",
       " 'Steve Coogan': 78056163.8420673,\n",
       " 'Billy Crudup': 77938881.66126168,\n",
       " 'Kim Basinger': 77703030.19089997,\n",
       " 'Brian Dennehy': 77547915.5281511,\n",
       " 'Joaquin Phoenix': 77192048.52290903,\n",
       " 'Keri Russell': 77115187.6084752,\n",
       " 'Whoopi Goldberg': 76938219.08436397,\n",
       " 'Martin Balsam': 76894022.11453655,\n",
       " 'Colin Firth': 76847631.81120977,\n",
       " 'Hal Holbrook': 76538590.67380713,\n",
       " 'Goran Visnjic': 76525496.5736749,\n",
       " 'John Cleese': 76513483.76902035,\n",
       " 'Jason Alexander': 76334792.38394009,\n",
       " 'Gemma Arterton': 76316481.27197209,\n",
       " 'Michelle Pfeiffer': 76165085.25725077,\n",
       " 'Milla Jovovich': 75880395.28057323,\n",
       " 'Jason Patric': 75850934.8065446,\n",
       " 'Alfred Molina': 75753425.57292402,\n",
       " 'Terence Stamp': 75631011.58087228,\n",
       " 'Bobby Cannavale': 75547057.47655012,\n",
       " 'Diane Lane': 75375488.6643884,\n",
       " 'Jesse Eisenberg': 74546260.57841739,\n",
       " 'Linda Fiorentino': 74519429.82367,\n",
       " 'Terrence Howard': 74381691.59098612,\n",
       " 'Lucy Liu': 74287783.63046232,\n",
       " 'Meg Ryan': 74207505.34541874,\n",
       " 'Edward Norton': 74062523.51399212,\n",
       " 'Timothy Olyphant': 73958409.56707086,\n",
       " 'Joel Edgerton': 73912371.65606616,\n",
       " 'Lili Taylor': 73755097.21267398,\n",
       " 'David Spade': 73508195.9765661,\n",
       " 'Paul Rudd': 73507367.29776561,\n",
       " 'Richard Jenkins': 73444439.84315853,\n",
       " 'Anthony Anderson': 73377069.01591815,\n",
       " 'Jacqueline Bisset': 73288245.88396949,\n",
       " 'Kate Beckinsale': 73230269.6709938,\n",
       " 'Jennifer Garner': 73123707.4094128,\n",
       " 'Jamie Lee Curtis': 72874935.57528113,\n",
       " 'Jennifer Connelly': 72810727.8131518,\n",
       " 'Salma Hayek': 72764119.82271037,\n",
       " 'Madeleine Stowe': 72704221.41269411,\n",
       " 'Jeff Bridges': 72580700.08130744,\n",
       " 'Brendan Fraser': 72579630.34413037,\n",
       " 'Eva Mendes': 72550147.49452142,\n",
       " 'Ian Holm': 72516143.7631293,\n",
       " 'Jessica Alba': 72438413.31338799,\n",
       " 'James Coburn': 72392549.49073376,\n",
       " 'Dominic West': 72378857.61271311,\n",
       " 'Bruce Greenwood': 72117797.9379453,\n",
       " 'Faye Dunaway': 72108161.91964094,\n",
       " 'Joseph Gordon-Levitt': 71963634.63205615,\n",
       " 'Ali Larter': 71763290.4990919,\n",
       " 'David Thewlis': 71277625.09190698,\n",
       " 'Bruce McGill': 70763730.38241886,\n",
       " 'Colin Farrell': 70439267.64582403,\n",
       " 'Blythe Danner': 70377842.79172505,\n",
       " 'Rhys Ifans': 70243147.8206469,\n",
       " 'Mandy Moore': 70057301.47905445,\n",
       " 'David Morse': 69872828.87263194,\n",
       " 'Billy Bob Thornton': 69707965.229814,\n",
       " 'Aaron Taylor-Johnson': 69243418.33022054,\n",
       " 'Cheech Marin': 69088022.69182386,\n",
       " 'Abigail Breslin': 68986390.5579026,\n",
       " 'Kurt Russell': 68955000.94399303,\n",
       " 'Danny Glover': 68949105.09441736,\n",
       " 'Ice Cube': 68739234.95858815,\n",
       " 'Mathieu Amalric': 68585090.07043354,\n",
       " 'Alessandro Nivola': 68550714.02302076,\n",
       " 'Cuba Gooding Jr.': 68409753.41089517,\n",
       " 'Mischa Barton': 68192289.22848995,\n",
       " 'Julie Christie': 67929512.30430308,\n",
       " 'Cole Hauser': 67834840.3963619,\n",
       " 'Julia Stiles': 67775154.3407267,\n",
       " 'Cynthia Nixon': 67584568.28532776,\n",
       " 'David Strathairn': 67463871.02533829,\n",
       " 'Tim Matheson': 67414086.51094075,\n",
       " 'Marlon Wayans': 67073001.26845188,\n",
       " 'Robert Loggia': 66682288.79386641,\n",
       " 'Dan Hedaya': 66439195.59731376,\n",
       " 'Katherine Heigl': 66343460.81608248,\n",
       " 'Daniel Day-Lewis': 66302190.630301796,\n",
       " 'Steve Martin': 66132970.386039436,\n",
       " 'Emily Mortimer': 66100145.12069867,\n",
       " 'Juliette Binoche': 65692471.56512719,\n",
       " 'Sienna Miller': 65605638.12748094,\n",
       " 'Parker Posey': 65275438.236013025,\n",
       " 'William H. Macy': 65226573.99252754,\n",
       " 'Jeffrey Tambor': 65094461.85483451,\n",
       " 'Tom Sizemore': 64878641.43207841,\n",
       " 'Andie MacDowell': 64839373.551528655,\n",
       " 'Michael Ealy': 64817638.83833262,\n",
       " 'Jamie Bell': 64708740.74731091,\n",
       " 'Diane Keaton': 64653710.44170982,\n",
       " 'Ray Winstone': 64554575.34799618,\n",
       " 'Tom Wilkinson': 64548689.05965854,\n",
       " 'Kiefer Sutherland': 64364416.52504114,\n",
       " 'Christopher Walken': 63716520.73740039,\n",
       " 'JoBeth Williams': 63436491.98218617,\n",
       " 'Tom Arnold': 63413505.160779096,\n",
       " 'Jamie Chung': 63307589.35931498,\n",
       " 'Christina Ricci': 63220580.642160796,\n",
       " 'Michelle Monaghan': 63149359.05361368,\n",
       " 'Neve Campbell': 62853363.30126915,\n",
       " 'Sarah Jessica Parker': 62838842.981949925,\n",
       " 'Michael Shannon': 62825314.50667335,\n",
       " 'Forest Whitaker': 62724875.726374134,\n",
       " 'Rob Lowe': 62451381.977332324,\n",
       " 'Luis GuzmÃ¡n': 62359833.166770086,\n",
       " 'Casey Affleck': 62300331.09359451,\n",
       " 'Julianne Moore': 62269521.69161951,\n",
       " 'Clive Owen': 62220610.95044813,\n",
       " 'Adrien Brody': 61935411.665673964,\n",
       " 'Dianne Wiest': 61928799.90225493,\n",
       " 'Thora Birch': 61788914.70058088,\n",
       " 'Anthony Mackie': 61635791.833755,\n",
       " 'David Arquette': 61533768.606198125,\n",
       " 'Jet Li': 61515902.72481109,\n",
       " 'Jessica Biel': 61310921.49755308,\n",
       " 'John Candy': 61033952.12837466,\n",
       " 'Penelope Ann Miller': 60672905.22752011,\n",
       " 'Annette Bening': 60630222.65119658,\n",
       " 'Vera Farmiga': 60341951.267700285,\n",
       " 'Carey Mulligan': 60333841.76037061,\n",
       " 'Madonna': 60321649.68987999,\n",
       " 'Warren Beatty': 59984931.01705607,\n",
       " 'Charlie Sheen': 59833160.56412061,\n",
       " 'Reese Witherspoon': 59757415.591020815,\n",
       " 'Jonathan Rhys Meyers': 59724723.69011232,\n",
       " 'Donald Sutherland': 59574652.645181485,\n",
       " 'Nia Long': 59506858.163574055,\n",
       " 'Dennis Quaid': 59063466.82561716,\n",
       " 'Abbie Cornish': 58997441.57408032,\n",
       " 'Nick Nolte': 58978908.172787406,\n",
       " 'Selena Gomez': 58976483.16705529,\n",
       " 'Helen Mirren': 58969711.15489726,\n",
       " 'James Marsden': 58959909.7588795,\n",
       " 'Laura Linney': 58776948.68818576,\n",
       " 'Wes Bentley': 58584112.85495249,\n",
       " 'Leslie Bibb': 58328431.80237653,\n",
       " 'Anna Kendrick': 58212314.351011425,\n",
       " 'Chris Cooper': 58125410.9710381,\n",
       " 'Anton Yelchin': 57779998.1477774,\n",
       " 'Josh Hartnett': 57660828.65948493,\n",
       " 'Kyra Sedgwick': 57547396.96177203,\n",
       " 'Claire Danes': 57484814.46584318,\n",
       " 'Zooey Deschanel': 57474058.24899006,\n",
       " 'Michelle Williams': 57374734.28301444,\n",
       " 'Maria Bello': 57131685.510427825,\n",
       " 'America Ferrera': 57129272.87238794,\n",
       " 'Jared Leto': 56801929.817878366,\n",
       " 'Rhona Mitra': 56705874.492613286,\n",
       " 'Denise Richards': 56606415.59891636,\n",
       " 'Zac Efron': 56576444.025296874,\n",
       " 'Kelly Preston': 56405544.71116021,\n",
       " 'Steve Guttenberg': 56314282.82264995,\n",
       " 'Morris Chestnut': 56278960.558403544,\n",
       " 'Naomi Watts': 56275664.96592928,\n",
       " 'Peter Sarsgaard': 55627438.812777795,\n",
       " 'Brian Cox': 55574565.69986505,\n",
       " 'John Turturro': 55446940.8214662,\n",
       " 'George C. Scott': 54908972.51943755,\n",
       " 'Josh Lucas': 54823145.14108688,\n",
       " 'Oliver Reed': 54711041.408754066,\n",
       " 'Dane Cook': 54682563.080287464,\n",
       " 'Jason Isaacs': 54486893.77268965,\n",
       " 'Charles Dance': 54433889.29677948,\n",
       " 'CiarÃ¡n Hinds': 54394684.440569624,\n",
       " 'Olivia Wilde': 54123723.20343126,\n",
       " 'Lauren Graham': 54080640.61617617,\n",
       " 'Lena Headey': 53894894.001253694,\n",
       " 'Jonathan Pryce': 53682404.833804,\n",
       " 'Toni Collette': 53639237.68271696,\n",
       " 'Julia Ormond': 53505992.12362489,\n",
       " 'Wallace Shawn': 53418000.23313623,\n",
       " 'Tim Robbins': 53263467.466465116,\n",
       " 'Charlton Heston': 53059209.434534945,\n",
       " 'Anthony Quinn': 53002717.84822139,\n",
       " 'Liev Schreiber': 52838973.95824365,\n",
       " 'Dakota Fanning': 52685874.81186104,\n",
       " 'Mekhi Phifer': 52514628.79478446,\n",
       " 'Matt Dillon': 52475731.50115403,\n",
       " 'Uma Thurman': 52303297.835001566,\n",
       " 'James Woods': 51897868.00496186,\n",
       " 'Patrick Wilson': 51810462.27394835,\n",
       " 'Mary Elizabeth Winstead': 51675206.77931345,\n",
       " 'D. B. Sweeney': 51538058.773222275,\n",
       " 'Ron Perlman': 51532924.27114524,\n",
       " 'J.K. Simmons': 51458012.5201547,\n",
       " 'Rob Corddry': 51415226.37833514}"
      ]
     },
     "execution_count": 49,
     "metadata": {},
     "output_type": "execute_result"
    }
   ],
   "source": [
    "{k: v for k, v in sorted(top_casts.items(), key=lambda item: item[1], reverse=True)}"
   ]
  },
  {
   "cell_type": "markdown",
   "id": "a03e0d17",
   "metadata": {},
   "source": [
    "### As displayed above, after comparing directors with more than 10 movies, we can see that the following actors movies have higher revenue\n",
    "- Emma Watson\n",
    "- Carrie Fisher\n",
    "- Daniel Radcliffe\n",
    "- Rupert Grint\n",
    "- Orlando Bloom"
   ]
  },
  {
   "cell_type": "markdown",
   "id": "5cc3a7a1",
   "metadata": {},
   "source": [
    "# How does the movie production company affect the income of movies\n",
    "## Inspecting production company"
   ]
  },
  {
   "cell_type": "code",
   "execution_count": 50,
   "id": "b15c158a",
   "metadata": {},
   "outputs": [
    {
     "data": {
      "text/plain": [
       "5"
      ]
     },
     "execution_count": 50,
     "metadata": {},
     "output_type": "execute_result"
    }
   ],
   "source": [
    "max(df['production_companies'].apply(lambda x: len(x.split('|'))))"
   ]
  },
  {
   "cell_type": "code",
   "execution_count": 51,
   "id": "46a6c721",
   "metadata": {},
   "outputs": [
    {
     "data": {
      "text/plain": [
       "(24255, 7880)"
      ]
     },
     "execution_count": 51,
     "metadata": {},
     "output_type": "execute_result"
    }
   ],
   "source": [
    "comp_list = list(df['production_companies'].apply(lambda x: x.split('|')))\n",
    "join_comp = [comp for kcomp in comp_list for comp in kcomp]\n",
    "len(join_comp), len(set(join_comp))"
   ]
  },
  {
   "cell_type": "code",
   "execution_count": 52,
   "id": "04f05cc7",
   "metadata": {},
   "outputs": [],
   "source": [
    "unique_comps = set(join_comp)"
   ]
  },
  {
   "cell_type": "code",
   "execution_count": 53,
   "id": "da2a3ec2",
   "metadata": {},
   "outputs": [
    {
     "name": "stderr",
     "output_type": "stream",
     "text": [
      "/tmp/ipykernel_15042/503497195.py:3: PerformanceWarning: DataFrame is highly fragmented.  This is usually the result of calling `frame.insert` many times, which has poor performance.  Consider using pd.concat instead.  To get a de-fragmented frame, use `newframe = frame.copy()`\n",
      "  comp_df[f'comp_{comp}'] = df['production_companies'].apply(lambda x: comp in x.split('|'))\n"
     ]
    }
   ],
   "source": [
    "comp_df = df.copy()\n",
    "for comp in unique_comps:\n",
    "    comp_df[f'comp_{comp}'] = df['production_companies'].apply(lambda x: comp in x.split('|'))"
   ]
  },
  {
   "cell_type": "code",
   "execution_count": 54,
   "id": "31ec05b4",
   "metadata": {},
   "outputs": [
    {
     "data": {
      "text/plain": [
       "19046"
      ]
     },
     "execution_count": 54,
     "metadata": {},
     "output_type": "execute_result"
    }
   ],
   "source": [
    "len(cast_df.columns)"
   ]
  },
  {
   "cell_type": "code",
   "execution_count": 55,
   "id": "2f499e9d",
   "metadata": {},
   "outputs": [],
   "source": [
    "comp_cols = [col for col in comp_df.columns if col.startswith('comp_')]"
   ]
  },
  {
   "cell_type": "code",
   "execution_count": 56,
   "id": "9e779f39",
   "metadata": {},
   "outputs": [
    {
     "data": {
      "text/plain": [
       "['comp_Shogakukan Production', 'comp_2 Loop Films']"
      ]
     },
     "execution_count": 56,
     "metadata": {},
     "output_type": "execute_result"
    }
   ],
   "source": [
    "comp_cols[:2]"
   ]
  },
  {
   "cell_type": "code",
   "execution_count": 57,
   "id": "18e90208",
   "metadata": {},
   "outputs": [],
   "source": [
    "top_comps = {}\n",
    "for comp in comp_cols:\n",
    "    if comp_df.groupby(comp)['production_companies'].count()[1] > 10:\n",
    "        if comp_df.groupby(comp)['revenue_adj'].mean()[1] > df['revenue_adj'].mean():\n",
    "            top_comps[comp.split('_')[1]] = comp_df.groupby(comp)['revenue_adj'].mean()[1]"
   ]
  },
  {
   "cell_type": "code",
   "execution_count": 58,
   "id": "df72d83f",
   "metadata": {},
   "outputs": [
    {
     "data": {
      "text/plain": [
       "{'Lucasfilm': 683781553.8809587,\n",
       " 'Heyday Films': 564160074.2570236,\n",
       " 'Eon Productions': 555883175.3460546,\n",
       " 'WingNut Films': 506312195.82732993,\n",
       " 'Twentieth Century Fox Animation': 420936048.2527366,\n",
       " 'Dentsu': 377659885.96461207,\n",
       " 'Moving Picture Company (MPC)': 375340899.722523,\n",
       " 'Jerry Bruckheimer Films': 365223415.4644242,\n",
       " 'Marvel Enterprises': 344102783.9636606,\n",
       " 'Sunswept Entertainment': 339232101.5383791,\n",
       " 'Amblin Entertainment': 327680690.0628984,\n",
       " '1492 Pictures': 324660215.5373108,\n",
       " 'Skydance Productions': 323197480.78794664,\n",
       " 'Walt Disney Feature Animation': 322026350.7788067,\n",
       " 'Blue Sky Studios': 307140685.2957337,\n",
       " 'Legendary Pictures': 301904212.5733245,\n",
       " 'Marvel Studios': 298695862.0037244,\n",
       " 'Temple Hill Entertainment': 296089937.61657745,\n",
       " 'DreamWorks Animation': 266677518.03659302,\n",
       " 'Cruise/Wagner Productions': 258953419.25634634,\n",
       " 'TSG Entertainment': 254232516.34528637,\n",
       " 'Overbrook Entertainment': 252540938.67052373,\n",
       " 'Illumination Entertainment': 252167081.49619976,\n",
       " \"Donners' Company\": 247918035.1857083,\n",
       " 'Tim Burton Productions': 246868467.48669103,\n",
       " 'Di Bonaventura Pictures': 237437383.26180995,\n",
       " 'Ingenious Film Partners': 232435845.9612517,\n",
       " 'Walt Disney': 215848159.4298044,\n",
       " 'Media Rights Capital': 215557092.28496948,\n",
       " 'Dune Entertainment': 211256913.04521045,\n",
       " 'Original Film': 209419512.41662988,\n",
       " 'Platinum Dunes': 202581629.93946698,\n",
       " '21 Laps Entertainment': 201896992.8337514,\n",
       " 'Pixar Animation Studios': 200336098.62420768,\n",
       " 'Bad Hat Harry Productions': 199021461.4601013,\n",
       " 'DreamWorks SKG': 193364510.0844472,\n",
       " 'Ingenious Media': 188705557.49024427,\n",
       " 'Twentieth Century Fox Film Corporation': 185274060.52682373,\n",
       " 'Walt Disney Animation Studios': 178314687.65128508,\n",
       " 'Hughes Entertainment': 176927267.1432715,\n",
       " 'GK Films': 175728438.50588045,\n",
       " 'Walt Disney Pictures': 174702751.34936917,\n",
       " 'Silver Pictures': 168314717.39381287,\n",
       " 'Sony Pictures Animation': 168141172.3743062,\n",
       " 'Village Roadshow Pictures': 162181983.29576766,\n",
       " 'Appian Way': 156790527.76368225,\n",
       " 'Plan B Entertainment': 154544014.10162452,\n",
       " 'Alphaville Films': 153492181.53489742,\n",
       " 'Tribeca Productions': 153417435.46381286,\n",
       " 'NPV Entertainment': 152764627.7607461,\n",
       " 'DC Entertainment': 140297264.25130436,\n",
       " 'Warner Bros.': 139584455.11104265,\n",
       " 'Walden Media': 137050193.04673892,\n",
       " 'Mutual Film Company': 136073362.72170767,\n",
       " 'Lawrence Gordon Productions': 135134374.95922923,\n",
       " 'Spyglass Entertainment': 134179846.804795,\n",
       " 'Paramount Pictures': 133340295.52252285,\n",
       " 'Mace Neufeld Productions': 129823559.28108628,\n",
       " 'Universal Studios': 127603405.30364253,\n",
       " 'Carolco Pictures': 127291723.5982953,\n",
       " 'Imagine Entertainment': 124010724.33210373,\n",
       " 'Studio Babelsberg': 123777614.75360376,\n",
       " 'Relativity Media': 123481411.36290435,\n",
       " 'Universal Pictures': 123222145.95256358,\n",
       " 'Columbia Pictures': 122286774.9717406,\n",
       " 'Atlas Entertainment': 121014163.76614794,\n",
       " 'Escape Artists': 120529126.43240842,\n",
       " 'Fox 2000 Pictures': 119883236.02891997,\n",
       " 'Davis Entertainment': 118918757.74233112,\n",
       " 'Scott Free Productions': 117781153.662279,\n",
       " 'Summit Entertainment': 115500295.05181631,\n",
       " 'Columbia Pictures Corporation': 113243694.6334383,\n",
       " 'The Guber-Peters Company': 112285001.40502433,\n",
       " 'Nickelodeon Movies': 106349919.5320445,\n",
       " 'Walt Disney Productions': 106282136.10595204,\n",
       " 'Happy Madison Productions': 105675832.61414428,\n",
       " 'Mosaic Media Group': 105621282.62490593,\n",
       " 'New Line Cinema': 105373444.70921169,\n",
       " 'Apatow Productions': 103582080.03754298,\n",
       " 'Mirage Enterprises': 102034670.50832872,\n",
       " 'Miramax': 101302428.12669833,\n",
       " 'Saturn Films': 101190867.44201168,\n",
       " 'Mandeville Films': 100666510.52019595,\n",
       " 'Touchstone Pictures': 100393632.56821775,\n",
       " 'Dark Horse Entertainment': 100339924.2001587,\n",
       " 'Scott Rudin Productions': 99338479.73341186,\n",
       " 'Dune Entertainment III': 98876205.18441223,\n",
       " 'United Artists': 97602846.53862977,\n",
       " 'Regency Enterprises': 96375053.92601033,\n",
       " 'Metro-Goldwyn-Mayer (MGM)': 93707422.83370005,\n",
       " 'Impact Pictures': 93675021.09540774,\n",
       " 'Cinergi Pictures Entertainment': 92780368.89971644,\n",
       " \"Mel's Cite du Cinema\": 91602467.50185134,\n",
       " 'Baltimore Pictures': 91327075.35058582,\n",
       " 'Davis-Films': 91296177.85760476,\n",
       " 'Icon Productions': 90305846.71078107,\n",
       " 'BenderSpink': 89522317.29244384,\n",
       " 'Malpaso Productions': 87573477.18308368,\n",
       " 'Jersey Films': 87069164.7448164,\n",
       " 'Constantin Film Produktion': 85829780.46713294,\n",
       " 'Icon Entertainment International': 84015896.97018701,\n",
       " 'Wildwood Enterprises': 83963033.54576677,\n",
       " 'Vertigo Entertainment': 83939071.59657812,\n",
       " 'EuropaCorp': 83269071.48510343,\n",
       " 'Radar Pictures': 82890234.37181792,\n",
       " 'DreamWorks Pictures': 82765435.45315762,\n",
       " 'New Regency Pictures': 80084653.84449649,\n",
       " 'Canal Plus': 79584799.44423392,\n",
       " 'Working Title Films': 78629963.63995472,\n",
       " 'The Ladd Company': 78200375.3450366,\n",
       " 'Marc Platt Productions': 76319921.73282759,\n",
       " 'Gary Sanchez Productions': 74941469.66165462,\n",
       " '3 Arts Entertainment': 74879294.51791681,\n",
       " 'Lionsgate': 74789339.66790316,\n",
       " 'Spring Creek Productions': 74211198.72797468,\n",
       " 'Twisted Pictures': 73746618.18462563,\n",
       " 'Interscope Communications': 73743552.17218563,\n",
       " 'PolyGram Filmed Entertainment': 73731341.5354908,\n",
       " 'Revolution Studios': 72825903.0369332,\n",
       " 'TriStar Pictures': 72143106.05558106,\n",
       " 'M6 Films': 70219350.26432227,\n",
       " 'Golden Harvest Company': 69858007.27595674,\n",
       " 'Hollywood Pictures': 69607078.8832442,\n",
       " 'Imagenation Abu Dhabi FZ': 69274391.00211158,\n",
       " 'Alcon Entertainment': 67822467.35860515,\n",
       " 'Paramount Animation': 67186687.90161596,\n",
       " 'Intermedia Films': 66444855.88490916,\n",
       " 'Double Feature Films': 64006449.04384589,\n",
       " 'Mad Chance': 63161890.34325592,\n",
       " 'Phoenix Pictures': 63046090.229045846,\n",
       " 'Rastar Pictures': 62167716.05348141,\n",
       " 'The Weinstein Company': 61617378.97266552,\n",
       " 'Gold Circle Films': 61592948.39922382,\n",
       " 'DC Comics': 58755555.99833364,\n",
       " 'Robert Simonds Productions': 58186218.80660531,\n",
       " 'Dino De Laurentiis Company': 57659111.95998984,\n",
       " 'Castle Rock Entertainment': 56313422.91411582,\n",
       " 'Canal+': 56272564.09161673,\n",
       " 'DNA Films': 55831782.74858794,\n",
       " 'Newmarket Capital Group': 55260513.922685914,\n",
       " '20th Century Fox': 54490428.12557265,\n",
       " 'Morgan Creek Productions': 53793283.5182783,\n",
       " 'Scion Films': 53482200.79580442,\n",
       " 'American Zoetrope': 52814704.48488355,\n",
       " 'Dimension Films': 52801611.39896643,\n",
       " 'Orion Pictures': 51626826.9207575,\n",
       " 'Focus Features': 51553442.21152117,\n",
       " 'Epsilon Motion Pictures': 51503481.21899163}"
      ]
     },
     "execution_count": 58,
     "metadata": {},
     "output_type": "execute_result"
    }
   ],
   "source": [
    "{k: v for k, v in sorted(top_comps.items(), key=lambda item: item[1], reverse=True)}"
   ]
  },
  {
   "cell_type": "markdown",
   "id": "c281761e",
   "metadata": {},
   "source": [
    "### As displayed above, after comparing companies with more than 10 movies, we can see that the following company's movies have higher revenue\n",
    "- Lucasfilm\n",
    "- Heyday Films\n",
    "- Eon Productions\n",
    "- WingNut Films\n",
    "- Twentieth Century Fox Animation"
   ]
  },
  {
   "cell_type": "code",
   "execution_count": null,
   "id": "185f821e",
   "metadata": {},
   "outputs": [],
   "source": []
  }
 ],
 "metadata": {
  "kernelspec": {
   "display_name": "Python 3 (ipykernel)",
   "language": "python",
   "name": "python3"
  },
  "language_info": {
   "codemirror_mode": {
    "name": "ipython",
    "version": 3
   },
   "file_extension": ".py",
   "mimetype": "text/x-python",
   "name": "python",
   "nbconvert_exporter": "python",
   "pygments_lexer": "ipython3",
   "version": "3.8.10"
  }
 },
 "nbformat": 4,
 "nbformat_minor": 5
}
